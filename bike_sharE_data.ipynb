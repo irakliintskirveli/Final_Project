{
 "cells": [
  {
   "cell_type": "code",
   "execution_count": 115,
   "metadata": {
    "collapsed": true
   },
   "outputs": [],
   "source": [
    "#!pip install alembic\n",
    "\n",
    "import pandas as pd\n",
    "import numpy as np\n",
    "\n",
    "#sqlalchemy \n",
    "import sqlalchemy\n",
    "from sqlalchemy import create_engine, inspect, func, table\n",
    "from sqlalchemy.orm import Session\n",
    "from sqlalchemy.ext.automap import automap_base\n",
    "from sqlalchemy import Column, Integer, String, Float, Text, DateTime\n",
    "from sqlalchemy.ext.declarative import declarative_base\n"
   ]
  },
  {
   "cell_type": "code",
   "execution_count": 2,
   "metadata": {},
   "outputs": [
    {
     "data": {
      "text/html": [
       "<div>\n",
       "<style>\n",
       "    .dataframe thead tr:only-child th {\n",
       "        text-align: right;\n",
       "    }\n",
       "\n",
       "    .dataframe thead th {\n",
       "        text-align: left;\n",
       "    }\n",
       "\n",
       "    .dataframe tbody tr th {\n",
       "        vertical-align: top;\n",
       "    }\n",
       "</style>\n",
       "<table border=\"1\" class=\"dataframe\">\n",
       "  <thead>\n",
       "    <tr style=\"text-align: right;\">\n",
       "      <th></th>\n",
       "      <th>trip_id</th>\n",
       "      <th>duration_sec</th>\n",
       "      <th>start_date</th>\n",
       "      <th>start_station_name</th>\n",
       "      <th>start_station_id</th>\n",
       "      <th>end_date</th>\n",
       "      <th>end_station_name</th>\n",
       "      <th>end_station_id</th>\n",
       "      <th>bike_number</th>\n",
       "      <th>zip_code</th>\n",
       "      <th>subscriber_type</th>\n",
       "    </tr>\n",
       "  </thead>\n",
       "  <tbody>\n",
       "    <tr>\n",
       "      <th>0</th>\n",
       "      <td>944732</td>\n",
       "      <td>2618</td>\n",
       "      <td>2015-09-24 17:22:00 UTC</td>\n",
       "      <td>Mezes</td>\n",
       "      <td>83</td>\n",
       "      <td>2015-09-24 18:06:00 UTC</td>\n",
       "      <td>Mezes</td>\n",
       "      <td>83</td>\n",
       "      <td>653</td>\n",
       "      <td>94063</td>\n",
       "      <td>Customer</td>\n",
       "    </tr>\n",
       "    <tr>\n",
       "      <th>1</th>\n",
       "      <td>984595</td>\n",
       "      <td>5957</td>\n",
       "      <td>2015-10-25 18:12:00 UTC</td>\n",
       "      <td>Mezes</td>\n",
       "      <td>83</td>\n",
       "      <td>2015-10-25 19:51:00 UTC</td>\n",
       "      <td>Mezes</td>\n",
       "      <td>83</td>\n",
       "      <td>52</td>\n",
       "      <td>nil</td>\n",
       "      <td>Customer</td>\n",
       "    </tr>\n",
       "    <tr>\n",
       "      <th>2</th>\n",
       "      <td>984596</td>\n",
       "      <td>5913</td>\n",
       "      <td>2015-10-25 18:13:00 UTC</td>\n",
       "      <td>Mezes</td>\n",
       "      <td>83</td>\n",
       "      <td>2015-10-25 19:51:00 UTC</td>\n",
       "      <td>Mezes</td>\n",
       "      <td>83</td>\n",
       "      <td>121</td>\n",
       "      <td>nil</td>\n",
       "      <td>Customer</td>\n",
       "    </tr>\n",
       "    <tr>\n",
       "      <th>3</th>\n",
       "      <td>1129385</td>\n",
       "      <td>6079</td>\n",
       "      <td>2016-03-18 10:33:00 UTC</td>\n",
       "      <td>Mezes</td>\n",
       "      <td>83</td>\n",
       "      <td>2016-03-18 12:14:00 UTC</td>\n",
       "      <td>Mezes</td>\n",
       "      <td>83</td>\n",
       "      <td>208</td>\n",
       "      <td>94070</td>\n",
       "      <td>Customer</td>\n",
       "    </tr>\n",
       "    <tr>\n",
       "      <th>4</th>\n",
       "      <td>1030383</td>\n",
       "      <td>5780</td>\n",
       "      <td>2015-12-06 10:52:00 UTC</td>\n",
       "      <td>Mezes</td>\n",
       "      <td>83</td>\n",
       "      <td>2015-12-06 12:28:00 UTC</td>\n",
       "      <td>Mezes</td>\n",
       "      <td>83</td>\n",
       "      <td>44</td>\n",
       "      <td>94064</td>\n",
       "      <td>Customer</td>\n",
       "    </tr>\n",
       "  </tbody>\n",
       "</table>\n",
       "</div>"
      ],
      "text/plain": [
       "   trip_id  duration_sec               start_date start_station_name  \\\n",
       "0   944732          2618  2015-09-24 17:22:00 UTC              Mezes   \n",
       "1   984595          5957  2015-10-25 18:12:00 UTC              Mezes   \n",
       "2   984596          5913  2015-10-25 18:13:00 UTC              Mezes   \n",
       "3  1129385          6079  2016-03-18 10:33:00 UTC              Mezes   \n",
       "4  1030383          5780  2015-12-06 10:52:00 UTC              Mezes   \n",
       "\n",
       "   start_station_id                 end_date end_station_name  end_station_id  \\\n",
       "0                83  2015-09-24 18:06:00 UTC            Mezes              83   \n",
       "1                83  2015-10-25 19:51:00 UTC            Mezes              83   \n",
       "2                83  2015-10-25 19:51:00 UTC            Mezes              83   \n",
       "3                83  2016-03-18 12:14:00 UTC            Mezes              83   \n",
       "4                83  2015-12-06 12:28:00 UTC            Mezes              83   \n",
       "\n",
       "   bike_number zip_code subscriber_type  \n",
       "0          653    94063        Customer  \n",
       "1           52      nil        Customer  \n",
       "2          121      nil        Customer  \n",
       "3          208    94070        Customer  \n",
       "4           44    94064        Customer  "
      ]
     },
     "execution_count": 2,
     "metadata": {},
     "output_type": "execute_result"
    }
   ],
   "source": [
    "#loading 2017 data\n",
    "tripfulldf = pd.read_csv(\"data/bikedata.csv\")\n",
    "tripfulldf.head()"
   ]
  },
  {
   "cell_type": "code",
   "execution_count": 3,
   "metadata": {},
   "outputs": [
    {
     "data": {
      "text/html": [
       "<div>\n",
       "<style>\n",
       "    .dataframe thead tr:only-child th {\n",
       "        text-align: right;\n",
       "    }\n",
       "\n",
       "    .dataframe thead th {\n",
       "        text-align: left;\n",
       "    }\n",
       "\n",
       "    .dataframe tbody tr th {\n",
       "        vertical-align: top;\n",
       "    }\n",
       "</style>\n",
       "<table border=\"1\" class=\"dataframe\">\n",
       "  <thead>\n",
       "    <tr style=\"text-align: right;\">\n",
       "      <th></th>\n",
       "      <th>trip_id</th>\n",
       "      <th>duration</th>\n",
       "      <th>start_date</th>\n",
       "      <th>start_station_name</th>\n",
       "      <th>start_station_id</th>\n",
       "      <th>end_date</th>\n",
       "      <th>end_station_name</th>\n",
       "      <th>end_station_id</th>\n",
       "      <th>bike_number</th>\n",
       "      <th>zip_code</th>\n",
       "      <th>subscriber_type</th>\n",
       "    </tr>\n",
       "  </thead>\n",
       "  <tbody>\n",
       "    <tr>\n",
       "      <th>0</th>\n",
       "      <td>944732</td>\n",
       "      <td>2618</td>\n",
       "      <td>2015-09-24 17:22:00</td>\n",
       "      <td>Mezes</td>\n",
       "      <td>83</td>\n",
       "      <td>2015-09-24 18:06:00</td>\n",
       "      <td>Mezes</td>\n",
       "      <td>83</td>\n",
       "      <td>653</td>\n",
       "      <td>94063</td>\n",
       "      <td>Customer</td>\n",
       "    </tr>\n",
       "    <tr>\n",
       "      <th>1</th>\n",
       "      <td>984595</td>\n",
       "      <td>5957</td>\n",
       "      <td>2015-10-25 18:12:00</td>\n",
       "      <td>Mezes</td>\n",
       "      <td>83</td>\n",
       "      <td>2015-10-25 19:51:00</td>\n",
       "      <td>Mezes</td>\n",
       "      <td>83</td>\n",
       "      <td>52</td>\n",
       "      <td>nil</td>\n",
       "      <td>Customer</td>\n",
       "    </tr>\n",
       "    <tr>\n",
       "      <th>2</th>\n",
       "      <td>984596</td>\n",
       "      <td>5913</td>\n",
       "      <td>2015-10-25 18:13:00</td>\n",
       "      <td>Mezes</td>\n",
       "      <td>83</td>\n",
       "      <td>2015-10-25 19:51:00</td>\n",
       "      <td>Mezes</td>\n",
       "      <td>83</td>\n",
       "      <td>121</td>\n",
       "      <td>nil</td>\n",
       "      <td>Customer</td>\n",
       "    </tr>\n",
       "    <tr>\n",
       "      <th>3</th>\n",
       "      <td>1129385</td>\n",
       "      <td>6079</td>\n",
       "      <td>2016-03-18 10:33:00</td>\n",
       "      <td>Mezes</td>\n",
       "      <td>83</td>\n",
       "      <td>2016-03-18 12:14:00</td>\n",
       "      <td>Mezes</td>\n",
       "      <td>83</td>\n",
       "      <td>208</td>\n",
       "      <td>94070</td>\n",
       "      <td>Customer</td>\n",
       "    </tr>\n",
       "    <tr>\n",
       "      <th>4</th>\n",
       "      <td>1030383</td>\n",
       "      <td>5780</td>\n",
       "      <td>2015-12-06 10:52:00</td>\n",
       "      <td>Mezes</td>\n",
       "      <td>83</td>\n",
       "      <td>2015-12-06 12:28:00</td>\n",
       "      <td>Mezes</td>\n",
       "      <td>83</td>\n",
       "      <td>44</td>\n",
       "      <td>94064</td>\n",
       "      <td>Customer</td>\n",
       "    </tr>\n",
       "  </tbody>\n",
       "</table>\n",
       "</div>"
      ],
      "text/plain": [
       "   trip_id  duration          start_date start_station_name  start_station_id  \\\n",
       "0   944732      2618 2015-09-24 17:22:00              Mezes                83   \n",
       "1   984595      5957 2015-10-25 18:12:00              Mezes                83   \n",
       "2   984596      5913 2015-10-25 18:13:00              Mezes                83   \n",
       "3  1129385      6079 2016-03-18 10:33:00              Mezes                83   \n",
       "4  1030383      5780 2015-12-06 10:52:00              Mezes                83   \n",
       "\n",
       "             end_date end_station_name  end_station_id  bike_number zip_code  \\\n",
       "0 2015-09-24 18:06:00            Mezes              83          653    94063   \n",
       "1 2015-10-25 19:51:00            Mezes              83           52      nil   \n",
       "2 2015-10-25 19:51:00            Mezes              83          121      nil   \n",
       "3 2016-03-18 12:14:00            Mezes              83          208    94070   \n",
       "4 2015-12-06 12:28:00            Mezes              83           44    94064   \n",
       "\n",
       "  subscriber_type  \n",
       "0        Customer  \n",
       "1        Customer  \n",
       "2        Customer  \n",
       "3        Customer  \n",
       "4        Customer  "
      ]
     },
     "execution_count": 3,
     "metadata": {},
     "output_type": "execute_result"
    }
   ],
   "source": [
    "#renaming column\n",
    "tripfulldf = tripfulldf.rename(columns={'duration_sec':'duration',})\n",
    "\n",
    "#converting start and end date to datetime\n",
    "tripfulldf['start_date'] = pd.to_datetime(tripfulldf['start_date'])\n",
    "tripfulldf['end_date'] = pd.to_datetime(tripfulldf['end_date'])\n",
    "tripfulldf.head()"
   ]
  },
  {
   "cell_type": "code",
   "execution_count": 36,
   "metadata": {},
   "outputs": [
    {
     "name": "stdout",
     "output_type": "stream",
     "text": [
      "2015-09-01 00:10:00\n",
      "2016-08-31 23:32:00\n"
     ]
    }
   ],
   "source": [
    "#filtering data for 2015-09-01\n",
    "mask = (tripfulldf['start_date'] > '2015-09-01')\n",
    "tripfulldf = tripfulldf.sort_values(by='start_date')\n",
    "tripPartialdf = tripfulldf.loc[mask]\n",
    "\n",
    "#checking earliest and latest date in file\n",
    "print(tripPartialdf.start_date.min())\n",
    "print(tripPartialdf.start_date.max())"
   ]
  },
  {
   "cell_type": "code",
   "execution_count": 38,
   "metadata": {},
   "outputs": [
    {
     "name": "stderr",
     "output_type": "stream",
     "text": [
      "/anaconda3/lib/python3.6/site-packages/ipykernel_launcher.py:2: SettingWithCopyWarning: \n",
      "A value is trying to be set on a copy of a slice from a DataFrame.\n",
      "Try using .loc[row_indexer,col_indexer] = value instead\n",
      "\n",
      "See the caveats in the documentation: http://pandas.pydata.org/pandas-docs/stable/indexing.html#indexing-view-versus-copy\n",
      "  \n",
      "/anaconda3/lib/python3.6/site-packages/ipykernel_launcher.py:3: SettingWithCopyWarning: \n",
      "A value is trying to be set on a copy of a slice from a DataFrame.\n",
      "Try using .loc[row_indexer,col_indexer] = value instead\n",
      "\n",
      "See the caveats in the documentation: http://pandas.pydata.org/pandas-docs/stable/indexing.html#indexing-view-versus-copy\n",
      "  This is separate from the ipykernel package so we can avoid doing imports until\n"
     ]
    },
    {
     "data": {
      "text/html": [
       "<div>\n",
       "<style>\n",
       "    .dataframe thead tr:only-child th {\n",
       "        text-align: right;\n",
       "    }\n",
       "\n",
       "    .dataframe thead th {\n",
       "        text-align: left;\n",
       "    }\n",
       "\n",
       "    .dataframe tbody tr th {\n",
       "        vertical-align: top;\n",
       "    }\n",
       "</style>\n",
       "<table border=\"1\" class=\"dataframe\">\n",
       "  <thead>\n",
       "    <tr style=\"text-align: right;\">\n",
       "      <th></th>\n",
       "      <th>trip_id</th>\n",
       "      <th>duration</th>\n",
       "      <th>start_date</th>\n",
       "      <th>start_station_name</th>\n",
       "      <th>start_station_id</th>\n",
       "      <th>end_date</th>\n",
       "      <th>end_station_name</th>\n",
       "      <th>end_station_id</th>\n",
       "      <th>bike_number</th>\n",
       "      <th>zip_code</th>\n",
       "      <th>subscriber_type</th>\n",
       "    </tr>\n",
       "  </thead>\n",
       "  <tbody>\n",
       "    <tr>\n",
       "      <th>576902</th>\n",
       "      <td>913465</td>\n",
       "      <td>746</td>\n",
       "      <td>09/01/2015 0:10</td>\n",
       "      <td>San Francisco Caltrain 2 (330 Townsend)</td>\n",
       "      <td>69</td>\n",
       "      <td>09/01/2015 0:23</td>\n",
       "      <td>San Francisco City Hall</td>\n",
       "      <td>58</td>\n",
       "      <td>238</td>\n",
       "      <td>94107</td>\n",
       "      <td>Subscriber</td>\n",
       "    </tr>\n",
       "    <tr>\n",
       "      <th>443404</th>\n",
       "      <td>913466</td>\n",
       "      <td>969</td>\n",
       "      <td>09/01/2015 0:15</td>\n",
       "      <td>Clay at Battery</td>\n",
       "      <td>41</td>\n",
       "      <td>09/01/2015 0:31</td>\n",
       "      <td>Washington at Kearny</td>\n",
       "      <td>46</td>\n",
       "      <td>16</td>\n",
       "      <td>94133</td>\n",
       "      <td>Subscriber</td>\n",
       "    </tr>\n",
       "    <tr>\n",
       "      <th>584634</th>\n",
       "      <td>913467</td>\n",
       "      <td>233</td>\n",
       "      <td>09/01/2015 0:15</td>\n",
       "      <td>Davis at Jackson</td>\n",
       "      <td>42</td>\n",
       "      <td>09/01/2015 0:19</td>\n",
       "      <td>Commercial at Montgomery</td>\n",
       "      <td>45</td>\n",
       "      <td>534</td>\n",
       "      <td>94111</td>\n",
       "      <td>Subscriber</td>\n",
       "    </tr>\n",
       "    <tr>\n",
       "      <th>363972</th>\n",
       "      <td>913468</td>\n",
       "      <td>213</td>\n",
       "      <td>09/01/2015 1:29</td>\n",
       "      <td>Clay at Battery</td>\n",
       "      <td>41</td>\n",
       "      <td>09/01/2015 1:32</td>\n",
       "      <td>Steuart at Market</td>\n",
       "      <td>74</td>\n",
       "      <td>312</td>\n",
       "      <td>94107</td>\n",
       "      <td>Subscriber</td>\n",
       "    </tr>\n",
       "    <tr>\n",
       "      <th>812801</th>\n",
       "      <td>913469</td>\n",
       "      <td>574</td>\n",
       "      <td>09/01/2015 1:33</td>\n",
       "      <td>Steuart at Market</td>\n",
       "      <td>74</td>\n",
       "      <td>09/01/2015 1:42</td>\n",
       "      <td>San Francisco Caltrain 2 (330 Townsend)</td>\n",
       "      <td>69</td>\n",
       "      <td>279</td>\n",
       "      <td>94107</td>\n",
       "      <td>Subscriber</td>\n",
       "    </tr>\n",
       "  </tbody>\n",
       "</table>\n",
       "</div>"
      ],
      "text/plain": [
       "        trip_id  duration       start_date  \\\n",
       "576902   913465       746  09/01/2015 0:10   \n",
       "443404   913466       969  09/01/2015 0:15   \n",
       "584634   913467       233  09/01/2015 0:15   \n",
       "363972   913468       213  09/01/2015 1:29   \n",
       "812801   913469       574  09/01/2015 1:33   \n",
       "\n",
       "                             start_station_name  start_station_id  \\\n",
       "576902  San Francisco Caltrain 2 (330 Townsend)                69   \n",
       "443404                          Clay at Battery                41   \n",
       "584634                         Davis at Jackson                42   \n",
       "363972                          Clay at Battery                41   \n",
       "812801                        Steuart at Market                74   \n",
       "\n",
       "               end_date                         end_station_name  \\\n",
       "576902  09/01/2015 0:23                  San Francisco City Hall   \n",
       "443404  09/01/2015 0:31                     Washington at Kearny   \n",
       "584634  09/01/2015 0:19                 Commercial at Montgomery   \n",
       "363972  09/01/2015 1:32                        Steuart at Market   \n",
       "812801  09/01/2015 1:42  San Francisco Caltrain 2 (330 Townsend)   \n",
       "\n",
       "        end_station_id  bike_number zip_code subscriber_type  \n",
       "576902              58          238    94107      Subscriber  \n",
       "443404              46           16    94133      Subscriber  \n",
       "584634              45          534    94111      Subscriber  \n",
       "363972              74          312    94107      Subscriber  \n",
       "812801              69          279    94107      Subscriber  "
      ]
     },
     "execution_count": 38,
     "metadata": {},
     "output_type": "execute_result"
    }
   ],
   "source": [
    "#changing new trip file's date time to match datetime in sqlite table\n",
    "tripPartialdf['start_date'] = tripPartialdf['start_date'].dt.strftime('%m/%d/%Y %-H:%M')\n",
    "tripPartialdf['end_date'] = tripPartialdf['end_date'].dt.strftime('%m/%d/%Y %-H:%M')\n",
    "tripPartialdf.head()"
   ]
  },
  {
   "cell_type": "code",
   "execution_count": 14,
   "metadata": {},
   "outputs": [
    {
     "name": "stdout",
     "output_type": "stream",
     "text": [
      "<class 'pandas.core.frame.DataFrame'>\n",
      "RangeIndex: 519700 entries, 0 to 519699\n",
      "Data columns (total 4 columns):\n",
      "start_station_id           519700 non-null int64\n",
      "start_station_name         519700 non-null object\n",
      "start_station_latitude     519700 non-null float64\n",
      "start_station_longitude    519700 non-null float64\n",
      "dtypes: float64(2), int64(1), object(1)\n",
      "memory usage: 15.9+ MB\n"
     ]
    }
   ],
   "source": [
    "#collecting new stations from 2017\n",
    "trip2017df = pd.read_csv(\"data/2017-fordgobike-tripdata.csv\")\n",
    "stationdf = trip2017df[['start_station_id','start_station_name','start_station_latitude','start_station_longitude']]\n",
    "stationdf.info()"
   ]
  },
  {
   "cell_type": "code",
   "execution_count": 15,
   "metadata": {},
   "outputs": [
    {
     "name": "stdout",
     "output_type": "stream",
     "text": [
      "<class 'pandas.core.frame.DataFrame'>\n",
      "Int64Index: 272 entries, 0 to 430614\n",
      "Data columns (total 4 columns):\n",
      "start_station_id           272 non-null int64\n",
      "start_station_name         272 non-null object\n",
      "start_station_latitude     272 non-null float64\n",
      "start_station_longitude    272 non-null float64\n",
      "dtypes: float64(2), int64(1), object(1)\n",
      "memory usage: 10.6+ KB\n"
     ]
    }
   ],
   "source": [
    "#keeping uniques stations from df\n",
    "stationdf = stationdf.drop_duplicates()\n",
    "stationdf.info()"
   ]
  },
  {
   "cell_type": "code",
   "execution_count": 116,
   "metadata": {
    "collapsed": true
   },
   "outputs": [],
   "source": [
    "\n",
    "# Create the connection engine\n",
    "engine = create_engine(\"sqlite:///data/sf_bike_share.sqlite\")\n",
    "\n",
    "#Base.metadata.create_all(engine)"
   ]
  },
  {
   "cell_type": "code",
   "execution_count": 117,
   "metadata": {},
   "outputs": [
    {
     "data": {
      "text/plain": [
       "['station', 'status', 'trip', 'trip_start_agg']"
      ]
     },
     "execution_count": 117,
     "metadata": {},
     "output_type": "execute_result"
    }
   ],
   "source": [
    "#declaring auto_base\n",
    "Base = automap_base()\n",
    "\n",
    "#reflecting tables in the hawaii.db\n",
    "Base.prepare(engine, reflect=True)\n",
    "\n",
    "#gathering tables from DB\n",
    "Base.classes.keys()"
   ]
  },
  {
   "cell_type": "code",
   "execution_count": 118,
   "metadata": {
    "collapsed": true
   },
   "outputs": [],
   "source": [
    "#setting tables to variables\n",
    "Station = Base.classes.station\n",
    "Status = Base.classes.status\n",
    "Trip = Base.classes.trip\n",
    "TripS = Base.classes.trip_start_agg"
   ]
  },
  {
   "cell_type": "code",
   "execution_count": 119,
   "metadata": {},
   "outputs": [
    {
     "data": {
      "text/plain": [
       "['station', 'status', 'trip', 'trip_start_agg', 'weather']"
      ]
     },
     "execution_count": 119,
     "metadata": {},
     "output_type": "execute_result"
    }
   ],
   "source": [
    "# Create the inspector and connect it to the engine\n",
    "inspector = inspect(engine)\n",
    "\n",
    "# Collect the names of tables within the database\n",
    "inspector.get_table_names()"
   ]
  },
  {
   "cell_type": "code",
   "execution_count": 20,
   "metadata": {},
   "outputs": [
    {
     "name": "stdout",
     "output_type": "stream",
     "text": [
      "id INTEGER\n",
      "name TEXT\n",
      "lat NUMERIC\n",
      "long NUMERIC\n",
      "dock_count INTEGER\n",
      "city TEXT\n",
      "installation_date TEXT\n"
     ]
    }
   ],
   "source": [
    "columns = inspector.get_columns('station')\n",
    "for column in columns:\n",
    "    print(column[\"name\"], column[\"type\"])"
   ]
  },
  {
   "cell_type": "code",
   "execution_count": 21,
   "metadata": {},
   "outputs": [
    {
     "name": "stdout",
     "output_type": "stream",
     "text": [
      "station_id INTEGER\n",
      "bikes_available INTEGER\n",
      "docks_available INTEGER\n",
      "time TEXT\n",
      "id INTEGER\n"
     ]
    }
   ],
   "source": [
    "columns = inspector.get_columns('status')\n",
    "for column in columns:\n",
    "    print(column[\"name\"], column[\"type\"])"
   ]
  },
  {
   "cell_type": "code",
   "execution_count": 22,
   "metadata": {},
   "outputs": [
    {
     "name": "stdout",
     "output_type": "stream",
     "text": [
      "id INTEGER\n",
      "duration INTEGER\n",
      "start_date TEXT\n",
      "start_station_name TEXT\n",
      "start_station_id INTEGER\n",
      "end_date TEXT\n",
      "end_station_name TEXT\n",
      "end_station_id INTEGER\n",
      "bike_id INTEGER\n",
      "subscription_type TEXT\n",
      "zip_code INTEGER\n"
     ]
    }
   ],
   "source": [
    "columns = inspector.get_columns('trip')\n",
    "for column in columns:\n",
    "    print(column[\"name\"], column[\"type\"])"
   ]
  },
  {
   "cell_type": "code",
   "execution_count": 120,
   "metadata": {
    "collapsed": true
   },
   "outputs": [],
   "source": [
    "# Create our session (link) from Python to the DB\n",
    "session = Session(bind=engine)"
   ]
  },
  {
   "cell_type": "code",
   "execution_count": 24,
   "metadata": {},
   "outputs": [
    {
     "name": "stdout",
     "output_type": "stream",
     "text": [
      "2\n",
      "San Jose Diridon Caltrain Station\n",
      "37.3297320000\n",
      "-121.9017820000\n",
      "27\n",
      "San Jose\n",
      "8/6/2013\n",
      "3\n",
      "San Jose Civic Center\n",
      "37.3306980000\n",
      "-121.8889790000\n",
      "15\n",
      "San Jose\n",
      "8/5/2013\n"
     ]
    },
    {
     "name": "stderr",
     "output_type": "stream",
     "text": [
      "/anaconda3/lib/python3.6/site-packages/sqlalchemy/sql/sqltypes.py:596: SAWarning: Dialect sqlite+pysqlite does *not* support Decimal objects natively, and SQLAlchemy must convert from floating point - rounding errors and other issues may occur. Please consider storing Decimal numbers as strings or integers on this platform for lossless storage.\n",
      "  'storage.' % (dialect.name, dialect.driver))\n"
     ]
    }
   ],
   "source": [
    "#checking the data in table\n",
    "station_list = session.query(Station).limit(2)\n",
    "for x in station_list:\n",
    "    print(x.id)\n",
    "    print(x.name)\n",
    "    print(x.lat)\n",
    "    print(x.long)\n",
    "    print(x.dock_count)\n",
    "    print(x.city)\n",
    "    print(x.installation_date)"
   ]
  },
  {
   "cell_type": "code",
   "execution_count": 25,
   "metadata": {},
   "outputs": [
    {
     "name": "stdout",
     "output_type": "stream",
     "text": [
      "4069\n",
      "174\n",
      "8/29/2013 9:08\n",
      "2nd at South Park\n",
      "64\n",
      "4073\n",
      "1067\n",
      "8/29/2013 9:24\n",
      "South Van Ness at Market\n",
      "66\n",
      "4074\n",
      "1131\n",
      "8/29/2013 9:24\n",
      "South Van Ness at Market\n",
      "66\n",
      "4075\n",
      "1117\n",
      "8/29/2013 9:24\n",
      "South Van Ness at Market\n",
      "66\n",
      "4076\n",
      "1118\n",
      "8/29/2013 9:25\n",
      "South Van Ness at Market\n",
      "66\n"
     ]
    }
   ],
   "source": [
    "#checking the data in DB\n",
    "trip_list = session.query(Trip).limit(5)\n",
    "for x in trip_list:\n",
    "    print(x.id)\n",
    "    print(x.duration)\n",
    "    print(x.start_date)\n",
    "    print(x.start_station_name)\n",
    "    print(x.start_station_id)"
   ]
  },
  {
   "cell_type": "code",
   "execution_count": 33,
   "metadata": {},
   "outputs": [
    {
     "name": "stdout",
     "output_type": "stream",
     "text": [
      "<class 'pandas.core.frame.DataFrame'>\n",
      "RangeIndex: 669959 entries, 0 to 669958\n",
      "Data columns (total 1 columns):\n",
      "start_date    669959 non-null object\n",
      "dtypes: object(1)\n",
      "memory usage: 5.1+ MB\n"
     ]
    }
   ],
   "source": [
    "#checking the data commit to DB\n",
    "trip_dates = session.query(Trip.start_date).all()\n",
    "tripdatesdf = pd.DataFrame(trip_dates)\n",
    "tripdatesdf.info()"
   ]
  },
  {
   "cell_type": "code",
   "execution_count": 30,
   "metadata": {},
   "outputs": [
    {
     "data": {
      "text/html": [
       "<div>\n",
       "<style>\n",
       "    .dataframe thead tr:only-child th {\n",
       "        text-align: right;\n",
       "    }\n",
       "\n",
       "    .dataframe thead th {\n",
       "        text-align: left;\n",
       "    }\n",
       "\n",
       "    .dataframe tbody tr th {\n",
       "        vertical-align: top;\n",
       "    }\n",
       "</style>\n",
       "<table border=\"1\" class=\"dataframe\">\n",
       "  <thead>\n",
       "    <tr style=\"text-align: right;\">\n",
       "      <th></th>\n",
       "      <th>start_date</th>\n",
       "    </tr>\n",
       "  </thead>\n",
       "  <tbody>\n",
       "    <tr>\n",
       "      <th>0</th>\n",
       "      <td>8/29/2013 9:08</td>\n",
       "    </tr>\n",
       "    <tr>\n",
       "      <th>1</th>\n",
       "      <td>8/29/2013 9:24</td>\n",
       "    </tr>\n",
       "    <tr>\n",
       "      <th>2</th>\n",
       "      <td>8/29/2013 9:24</td>\n",
       "    </tr>\n",
       "    <tr>\n",
       "      <th>3</th>\n",
       "      <td>8/29/2013 9:24</td>\n",
       "    </tr>\n",
       "    <tr>\n",
       "      <th>4</th>\n",
       "      <td>8/29/2013 9:25</td>\n",
       "    </tr>\n",
       "  </tbody>\n",
       "</table>\n",
       "</div>"
      ],
      "text/plain": [
       "       start_date\n",
       "0  8/29/2013 9:08\n",
       "1  8/29/2013 9:24\n",
       "2  8/29/2013 9:24\n",
       "3  8/29/2013 9:24\n",
       "4  8/29/2013 9:25"
      ]
     },
     "execution_count": 30,
     "metadata": {},
     "output_type": "execute_result"
    }
   ],
   "source": [
    "tripdatesdf.head()"
   ]
  },
  {
   "cell_type": "code",
   "execution_count": 37,
   "metadata": {},
   "outputs": [
    {
     "data": {
      "text/plain": [
       "Timestamp('2015-08-31 23:26:00')"
      ]
     },
     "execution_count": 37,
     "metadata": {},
     "output_type": "execute_result"
    }
   ],
   "source": [
    "#grabbing max date from Sqlite trip table\n",
    "tripdatesdf['start_date'] = pd.to_datetime(tripdatesdf['start_date'])\n",
    "tripdatesdf.start_date.max()"
   ]
  },
  {
   "cell_type": "code",
   "execution_count": 39,
   "metadata": {},
   "outputs": [
    {
     "data": {
      "text/html": [
       "<div>\n",
       "<style>\n",
       "    .dataframe thead tr:only-child th {\n",
       "        text-align: right;\n",
       "    }\n",
       "\n",
       "    .dataframe thead th {\n",
       "        text-align: left;\n",
       "    }\n",
       "\n",
       "    .dataframe tbody tr th {\n",
       "        vertical-align: top;\n",
       "    }\n",
       "</style>\n",
       "<table border=\"1\" class=\"dataframe\">\n",
       "  <thead>\n",
       "    <tr style=\"text-align: right;\">\n",
       "      <th></th>\n",
       "      <th>trip_id</th>\n",
       "      <th>duration</th>\n",
       "      <th>start_date</th>\n",
       "      <th>start_station_name</th>\n",
       "      <th>start_station_id</th>\n",
       "      <th>end_date</th>\n",
       "      <th>end_station_name</th>\n",
       "      <th>end_station_id</th>\n",
       "      <th>bike_number</th>\n",
       "      <th>zip_code</th>\n",
       "      <th>subscriber_type</th>\n",
       "    </tr>\n",
       "  </thead>\n",
       "  <tbody>\n",
       "    <tr>\n",
       "      <th>576902</th>\n",
       "      <td>913465</td>\n",
       "      <td>746</td>\n",
       "      <td>09/01/2015 0:10</td>\n",
       "      <td>San Francisco Caltrain 2 (330 Townsend)</td>\n",
       "      <td>69</td>\n",
       "      <td>09/01/2015 0:23</td>\n",
       "      <td>San Francisco City Hall</td>\n",
       "      <td>58</td>\n",
       "      <td>238</td>\n",
       "      <td>94107</td>\n",
       "      <td>Subscriber</td>\n",
       "    </tr>\n",
       "    <tr>\n",
       "      <th>443404</th>\n",
       "      <td>913466</td>\n",
       "      <td>969</td>\n",
       "      <td>09/01/2015 0:15</td>\n",
       "      <td>Clay at Battery</td>\n",
       "      <td>41</td>\n",
       "      <td>09/01/2015 0:31</td>\n",
       "      <td>Washington at Kearny</td>\n",
       "      <td>46</td>\n",
       "      <td>16</td>\n",
       "      <td>94133</td>\n",
       "      <td>Subscriber</td>\n",
       "    </tr>\n",
       "    <tr>\n",
       "      <th>584634</th>\n",
       "      <td>913467</td>\n",
       "      <td>233</td>\n",
       "      <td>09/01/2015 0:15</td>\n",
       "      <td>Davis at Jackson</td>\n",
       "      <td>42</td>\n",
       "      <td>09/01/2015 0:19</td>\n",
       "      <td>Commercial at Montgomery</td>\n",
       "      <td>45</td>\n",
       "      <td>534</td>\n",
       "      <td>94111</td>\n",
       "      <td>Subscriber</td>\n",
       "    </tr>\n",
       "    <tr>\n",
       "      <th>363972</th>\n",
       "      <td>913468</td>\n",
       "      <td>213</td>\n",
       "      <td>09/01/2015 1:29</td>\n",
       "      <td>Clay at Battery</td>\n",
       "      <td>41</td>\n",
       "      <td>09/01/2015 1:32</td>\n",
       "      <td>Steuart at Market</td>\n",
       "      <td>74</td>\n",
       "      <td>312</td>\n",
       "      <td>94107</td>\n",
       "      <td>Subscriber</td>\n",
       "    </tr>\n",
       "    <tr>\n",
       "      <th>812801</th>\n",
       "      <td>913469</td>\n",
       "      <td>574</td>\n",
       "      <td>09/01/2015 1:33</td>\n",
       "      <td>Steuart at Market</td>\n",
       "      <td>74</td>\n",
       "      <td>09/01/2015 1:42</td>\n",
       "      <td>San Francisco Caltrain 2 (330 Townsend)</td>\n",
       "      <td>69</td>\n",
       "      <td>279</td>\n",
       "      <td>94107</td>\n",
       "      <td>Subscriber</td>\n",
       "    </tr>\n",
       "  </tbody>\n",
       "</table>\n",
       "</div>"
      ],
      "text/plain": [
       "        trip_id  duration       start_date  \\\n",
       "576902   913465       746  09/01/2015 0:10   \n",
       "443404   913466       969  09/01/2015 0:15   \n",
       "584634   913467       233  09/01/2015 0:15   \n",
       "363972   913468       213  09/01/2015 1:29   \n",
       "812801   913469       574  09/01/2015 1:33   \n",
       "\n",
       "                             start_station_name  start_station_id  \\\n",
       "576902  San Francisco Caltrain 2 (330 Townsend)                69   \n",
       "443404                          Clay at Battery                41   \n",
       "584634                         Davis at Jackson                42   \n",
       "363972                          Clay at Battery                41   \n",
       "812801                        Steuart at Market                74   \n",
       "\n",
       "               end_date                         end_station_name  \\\n",
       "576902  09/01/2015 0:23                  San Francisco City Hall   \n",
       "443404  09/01/2015 0:31                     Washington at Kearny   \n",
       "584634  09/01/2015 0:19                 Commercial at Montgomery   \n",
       "363972  09/01/2015 1:32                        Steuart at Market   \n",
       "812801  09/01/2015 1:42  San Francisco Caltrain 2 (330 Townsend)   \n",
       "\n",
       "        end_station_id  bike_number zip_code subscriber_type  \n",
       "576902              58          238    94107      Subscriber  \n",
       "443404              46           16    94133      Subscriber  \n",
       "584634              45          534    94111      Subscriber  \n",
       "363972              74          312    94107      Subscriber  \n",
       "812801              69          279    94107      Subscriber  "
      ]
     },
     "execution_count": 39,
     "metadata": {},
     "output_type": "execute_result"
    }
   ],
   "source": [
    "tripPartialdf.head()"
   ]
  },
  {
   "cell_type": "code",
   "execution_count": 93,
   "metadata": {
    "collapsed": true
   },
   "outputs": [],
   "source": [
    "Base = declarative_base()"
   ]
  },
  {
   "cell_type": "code",
   "execution_count": 109,
   "metadata": {},
   "outputs": [
    {
     "name": "stderr",
     "output_type": "stream",
     "text": [
      "/anaconda3/lib/python3.6/site-packages/sqlalchemy/ext/declarative/clsregistry.py:120: SAWarning: This declarative base already contains a class with the same class name and module name as __main__.TripS, and will be replaced in the string-lookup table.\n",
      "  item.__name__\n"
     ]
    },
    {
     "ename": "InvalidRequestError",
     "evalue": "Table 'trip_start_agg' is already defined for this MetaData instance.  Specify 'extend_existing=True' to redefine options and columns on an existing Table object.",
     "output_type": "error",
     "traceback": [
      "\u001b[0;31m---------------------------------------------------------------------------\u001b[0m",
      "\u001b[0;31mInvalidRequestError\u001b[0m                       Traceback (most recent call last)",
      "\u001b[0;32m<ipython-input-109-cdba10ac44e4>\u001b[0m in \u001b[0;36m<module>\u001b[0;34m()\u001b[0m\n\u001b[1;32m      1\u001b[0m \u001b[0;31m# Define a Trip Start Grouped Table class\u001b[0m\u001b[0;34m\u001b[0m\u001b[0;34m\u001b[0m\u001b[0m\n\u001b[0;32m----> 2\u001b[0;31m \u001b[0;32mclass\u001b[0m \u001b[0mTripS\u001b[0m\u001b[0;34m(\u001b[0m\u001b[0mBase\u001b[0m\u001b[0;34m)\u001b[0m\u001b[0;34m:\u001b[0m\u001b[0;34m\u001b[0m\u001b[0m\n\u001b[0m\u001b[1;32m      3\u001b[0m     \u001b[0m__tablename__\u001b[0m \u001b[0;34m=\u001b[0m \u001b[0;34m\"trip_start_agg\"\u001b[0m\u001b[0;34m\u001b[0m\u001b[0m\n\u001b[1;32m      4\u001b[0m \u001b[0;34m\u001b[0m\u001b[0m\n\u001b[1;32m      5\u001b[0m     \u001b[0mid\u001b[0m \u001b[0;34m=\u001b[0m \u001b[0mColumn\u001b[0m\u001b[0;34m(\u001b[0m\u001b[0mInteger\u001b[0m\u001b[0;34m,\u001b[0m \u001b[0mprimary_key\u001b[0m\u001b[0;34m=\u001b[0m\u001b[0;32mTrue\u001b[0m\u001b[0;34m)\u001b[0m\u001b[0;34m\u001b[0m\u001b[0m\n",
      "\u001b[0;32m/anaconda3/lib/python3.6/site-packages/sqlalchemy/ext/declarative/api.py\u001b[0m in \u001b[0;36m__init__\u001b[0;34m(cls, classname, bases, dict_)\u001b[0m\n\u001b[1;32m     62\u001b[0m     \u001b[0;32mdef\u001b[0m \u001b[0m__init__\u001b[0m\u001b[0;34m(\u001b[0m\u001b[0mcls\u001b[0m\u001b[0;34m,\u001b[0m \u001b[0mclassname\u001b[0m\u001b[0;34m,\u001b[0m \u001b[0mbases\u001b[0m\u001b[0;34m,\u001b[0m \u001b[0mdict_\u001b[0m\u001b[0;34m)\u001b[0m\u001b[0;34m:\u001b[0m\u001b[0;34m\u001b[0m\u001b[0m\n\u001b[1;32m     63\u001b[0m         \u001b[0;32mif\u001b[0m \u001b[0;34m'_decl_class_registry'\u001b[0m \u001b[0;32mnot\u001b[0m \u001b[0;32min\u001b[0m \u001b[0mcls\u001b[0m\u001b[0;34m.\u001b[0m\u001b[0m__dict__\u001b[0m\u001b[0;34m:\u001b[0m\u001b[0;34m\u001b[0m\u001b[0m\n\u001b[0;32m---> 64\u001b[0;31m             \u001b[0m_as_declarative\u001b[0m\u001b[0;34m(\u001b[0m\u001b[0mcls\u001b[0m\u001b[0;34m,\u001b[0m \u001b[0mclassname\u001b[0m\u001b[0;34m,\u001b[0m \u001b[0mcls\u001b[0m\u001b[0;34m.\u001b[0m\u001b[0m__dict__\u001b[0m\u001b[0;34m)\u001b[0m\u001b[0;34m\u001b[0m\u001b[0m\n\u001b[0m\u001b[1;32m     65\u001b[0m         \u001b[0mtype\u001b[0m\u001b[0;34m.\u001b[0m\u001b[0m__init__\u001b[0m\u001b[0;34m(\u001b[0m\u001b[0mcls\u001b[0m\u001b[0;34m,\u001b[0m \u001b[0mclassname\u001b[0m\u001b[0;34m,\u001b[0m \u001b[0mbases\u001b[0m\u001b[0;34m,\u001b[0m \u001b[0mdict_\u001b[0m\u001b[0;34m)\u001b[0m\u001b[0;34m\u001b[0m\u001b[0m\n\u001b[1;32m     66\u001b[0m \u001b[0;34m\u001b[0m\u001b[0m\n",
      "\u001b[0;32m/anaconda3/lib/python3.6/site-packages/sqlalchemy/ext/declarative/base.py\u001b[0m in \u001b[0;36m_as_declarative\u001b[0;34m(cls, classname, dict_)\u001b[0m\n\u001b[1;32m     86\u001b[0m         \u001b[0;32mreturn\u001b[0m\u001b[0;34m\u001b[0m\u001b[0m\n\u001b[1;32m     87\u001b[0m \u001b[0;34m\u001b[0m\u001b[0m\n\u001b[0;32m---> 88\u001b[0;31m     \u001b[0m_MapperConfig\u001b[0m\u001b[0;34m.\u001b[0m\u001b[0msetup_mapping\u001b[0m\u001b[0;34m(\u001b[0m\u001b[0mcls\u001b[0m\u001b[0;34m,\u001b[0m \u001b[0mclassname\u001b[0m\u001b[0;34m,\u001b[0m \u001b[0mdict_\u001b[0m\u001b[0;34m)\u001b[0m\u001b[0;34m\u001b[0m\u001b[0m\n\u001b[0m\u001b[1;32m     89\u001b[0m \u001b[0;34m\u001b[0m\u001b[0m\n\u001b[1;32m     90\u001b[0m \u001b[0;34m\u001b[0m\u001b[0m\n",
      "\u001b[0;32m/anaconda3/lib/python3.6/site-packages/sqlalchemy/ext/declarative/base.py\u001b[0m in \u001b[0;36msetup_mapping\u001b[0;34m(cls, cls_, classname, dict_)\u001b[0m\n\u001b[1;32m    101\u001b[0m         \u001b[0;32melse\u001b[0m\u001b[0;34m:\u001b[0m\u001b[0;34m\u001b[0m\u001b[0m\n\u001b[1;32m    102\u001b[0m             \u001b[0mcfg_cls\u001b[0m \u001b[0;34m=\u001b[0m \u001b[0m_MapperConfig\u001b[0m\u001b[0;34m\u001b[0m\u001b[0m\n\u001b[0;32m--> 103\u001b[0;31m         \u001b[0mcfg_cls\u001b[0m\u001b[0;34m(\u001b[0m\u001b[0mcls_\u001b[0m\u001b[0;34m,\u001b[0m \u001b[0mclassname\u001b[0m\u001b[0;34m,\u001b[0m \u001b[0mdict_\u001b[0m\u001b[0;34m)\u001b[0m\u001b[0;34m\u001b[0m\u001b[0m\n\u001b[0m\u001b[1;32m    104\u001b[0m \u001b[0;34m\u001b[0m\u001b[0m\n\u001b[1;32m    105\u001b[0m     \u001b[0;32mdef\u001b[0m \u001b[0m__init__\u001b[0m\u001b[0;34m(\u001b[0m\u001b[0mself\u001b[0m\u001b[0;34m,\u001b[0m \u001b[0mcls_\u001b[0m\u001b[0;34m,\u001b[0m \u001b[0mclassname\u001b[0m\u001b[0;34m,\u001b[0m \u001b[0mdict_\u001b[0m\u001b[0;34m)\u001b[0m\u001b[0;34m:\u001b[0m\u001b[0;34m\u001b[0m\u001b[0m\n",
      "\u001b[0;32m/anaconda3/lib/python3.6/site-packages/sqlalchemy/ext/declarative/base.py\u001b[0m in \u001b[0;36m__init__\u001b[0;34m(self, cls_, classname, dict_)\u001b[0m\n\u001b[1;32m    129\u001b[0m         \u001b[0mself\u001b[0m\u001b[0;34m.\u001b[0m\u001b[0m_extract_declared_columns\u001b[0m\u001b[0;34m(\u001b[0m\u001b[0;34m)\u001b[0m\u001b[0;34m\u001b[0m\u001b[0m\n\u001b[1;32m    130\u001b[0m \u001b[0;34m\u001b[0m\u001b[0m\n\u001b[0;32m--> 131\u001b[0;31m         \u001b[0mself\u001b[0m\u001b[0;34m.\u001b[0m\u001b[0m_setup_table\u001b[0m\u001b[0;34m(\u001b[0m\u001b[0;34m)\u001b[0m\u001b[0;34m\u001b[0m\u001b[0m\n\u001b[0m\u001b[1;32m    132\u001b[0m \u001b[0;34m\u001b[0m\u001b[0m\n\u001b[1;32m    133\u001b[0m         \u001b[0mself\u001b[0m\u001b[0;34m.\u001b[0m\u001b[0m_setup_inheritance\u001b[0m\u001b[0;34m(\u001b[0m\u001b[0;34m)\u001b[0m\u001b[0;34m\u001b[0m\u001b[0m\n",
      "\u001b[0;32m/anaconda3/lib/python3.6/site-packages/sqlalchemy/ext/declarative/base.py\u001b[0m in \u001b[0;36m_setup_table\u001b[0;34m(self)\u001b[0m\n\u001b[1;32m    393\u001b[0m                     \u001b[0mtablename\u001b[0m\u001b[0;34m,\u001b[0m \u001b[0mcls\u001b[0m\u001b[0;34m.\u001b[0m\u001b[0mmetadata\u001b[0m\u001b[0;34m,\u001b[0m\u001b[0;34m\u001b[0m\u001b[0m\n\u001b[1;32m    394\u001b[0m                     \u001b[0;34m*\u001b[0m\u001b[0;34m(\u001b[0m\u001b[0mtuple\u001b[0m\u001b[0;34m(\u001b[0m\u001b[0mdeclared_columns\u001b[0m\u001b[0;34m)\u001b[0m \u001b[0;34m+\u001b[0m \u001b[0mtuple\u001b[0m\u001b[0;34m(\u001b[0m\u001b[0margs\u001b[0m\u001b[0;34m)\u001b[0m\u001b[0;34m)\u001b[0m\u001b[0;34m,\u001b[0m\u001b[0;34m\u001b[0m\u001b[0m\n\u001b[0;32m--> 395\u001b[0;31m                     **table_kw)\n\u001b[0m\u001b[1;32m    396\u001b[0m         \u001b[0;32melse\u001b[0m\u001b[0;34m:\u001b[0m\u001b[0;34m\u001b[0m\u001b[0m\n\u001b[1;32m    397\u001b[0m             \u001b[0mtable\u001b[0m \u001b[0;34m=\u001b[0m \u001b[0mcls\u001b[0m\u001b[0;34m.\u001b[0m\u001b[0m__table__\u001b[0m\u001b[0;34m\u001b[0m\u001b[0m\n",
      "\u001b[0;32m/anaconda3/lib/python3.6/site-packages/sqlalchemy/sql/schema.py\u001b[0m in \u001b[0;36m__new__\u001b[0;34m(cls, *args, **kw)\u001b[0m\n\u001b[1;32m    419\u001b[0m                     \u001b[0;34m\"to redefine \"\u001b[0m\u001b[0;34m\u001b[0m\u001b[0m\n\u001b[1;32m    420\u001b[0m                     \u001b[0;34m\"options and columns on an \"\u001b[0m\u001b[0;34m\u001b[0m\u001b[0m\n\u001b[0;32m--> 421\u001b[0;31m                     \"existing Table object.\" % key)\n\u001b[0m\u001b[1;32m    422\u001b[0m             \u001b[0mtable\u001b[0m \u001b[0;34m=\u001b[0m \u001b[0mmetadata\u001b[0m\u001b[0;34m.\u001b[0m\u001b[0mtables\u001b[0m\u001b[0;34m[\u001b[0m\u001b[0mkey\u001b[0m\u001b[0;34m]\u001b[0m\u001b[0;34m\u001b[0m\u001b[0m\n\u001b[1;32m    423\u001b[0m             \u001b[0;32mif\u001b[0m \u001b[0mextend_existing\u001b[0m\u001b[0;34m:\u001b[0m\u001b[0;34m\u001b[0m\u001b[0m\n",
      "\u001b[0;31mInvalidRequestError\u001b[0m: Table 'trip_start_agg' is already defined for this MetaData instance.  Specify 'extend_existing=True' to redefine options and columns on an existing Table object."
     ]
    }
   ],
   "source": [
    "# Define a Trip Start Grouped Table class\n",
    "class TripS(Base):\n",
    "    __tablename__ = \"trip_start_agg\"\n",
    "    \n",
    "    id = Column(Integer, primary_key=True)\n",
    "    Date = Column(Text)\n",
    "    station_id = Column(Integer)\n",
    "    station_name = Column(String)\n",
    "    ride = Column(Integer)"
   ]
  },
  {
   "cell_type": "code",
   "execution_count": 95,
   "metadata": {
    "collapsed": true
   },
   "outputs": [],
   "source": [
    "#adding New trip_start_agg Table to Sqlite DB\n",
    "conn = engine.connect()\n",
    "Base.metadata.create_all(conn)"
   ]
  },
  {
   "cell_type": "code",
   "execution_count": 42,
   "metadata": {},
   "outputs": [],
   "source": [
    "#appending september 2015 - august 2016 trip data to trip sqlite table\n",
    "\n",
    "#Retrieving last ID in sqlite table\n",
    "#lastrow = session.query(Trip.id).order_by(Trip.id.desc()).first()\n",
    "#print(lastrow[0])\n",
    "#lastrow = lastrow[0]\n",
    "\n",
    "#count = 1\n",
    "\n",
    "for index, row in tripPartialdf.iterrows():\n",
    "    \n",
    "    tripadd = Trip(id=row['trip_id'], \n",
    "                         duration=row['duration'], \n",
    "                         start_date=row[\"start_date\"], \n",
    "                         start_station_name=row[\"start_station_name\"],\n",
    "                         start_station_id=row[\"start_station_id\"],\n",
    "                         end_date=row[\"end_date\"],\n",
    "                         end_station_name=row[\"end_station_name\"],\n",
    "                         end_station_id=row[\"end_station_id\"],\n",
    "                         bike_id=row[\"bike_number\"],\n",
    "                         subscription_type=row[\"subscriber_type\"],\n",
    "                         zip_code=row['zip_code'])\n",
    "    session.add(tripadd)\n",
    "    session.commit()\n",
    "    \n",
    "    #count = count + 1"
   ]
  },
  {
   "cell_type": "code",
   "execution_count": 96,
   "metadata": {},
   "outputs": [
    {
     "data": {
      "text/plain": [
       "['station', 'status', 'trip', 'trip_start_agg', 'weather']"
      ]
     },
     "execution_count": 96,
     "metadata": {},
     "output_type": "execute_result"
    }
   ],
   "source": [
    "# Create the inspector and connect it to the engine\n",
    "inspector = inspect(engine)\n",
    "\n",
    "# Collect the names of tables within the database\n",
    "inspector.get_table_names()"
   ]
  },
  {
   "cell_type": "code",
   "execution_count": 44,
   "metadata": {
    "collapsed": true
   },
   "outputs": [],
   "source": [
    "#grouping data by most active start station\n",
    "data = session.query(Trip.start_date,Trip.start_station_id,Trip.start_station_name,func.count(Trip.start_station_id)).group_by(Trip.start_date,Trip.start_station_id,Trip.start_station_name).all()"
   ]
  },
  {
   "cell_type": "code",
   "execution_count": 100,
   "metadata": {},
   "outputs": [
    {
     "data": {
      "text/html": [
       "<div>\n",
       "<style>\n",
       "    .dataframe thead tr:only-child th {\n",
       "        text-align: right;\n",
       "    }\n",
       "\n",
       "    .dataframe thead th {\n",
       "        text-align: left;\n",
       "    }\n",
       "\n",
       "    .dataframe tbody tr th {\n",
       "        vertical-align: top;\n",
       "    }\n",
       "</style>\n",
       "<table border=\"1\" class=\"dataframe\">\n",
       "  <thead>\n",
       "    <tr style=\"text-align: right;\">\n",
       "      <th></th>\n",
       "      <th>Date:Hour</th>\n",
       "      <th>Station ID</th>\n",
       "      <th>Station Name</th>\n",
       "      <th>Rides</th>\n",
       "    </tr>\n",
       "  </thead>\n",
       "  <tbody>\n",
       "    <tr>\n",
       "      <th>0</th>\n",
       "      <td>01/01/2016 0:01</td>\n",
       "      <td>70</td>\n",
       "      <td>San Francisco Caltrain (Townsend at 4th)</td>\n",
       "      <td>1</td>\n",
       "    </tr>\n",
       "    <tr>\n",
       "      <th>1</th>\n",
       "      <td>01/01/2016 0:21</td>\n",
       "      <td>62</td>\n",
       "      <td>2nd at Folsom</td>\n",
       "      <td>2</td>\n",
       "    </tr>\n",
       "    <tr>\n",
       "      <th>2</th>\n",
       "      <td>01/01/2016 10:06</td>\n",
       "      <td>54</td>\n",
       "      <td>Embarcadero at Bryant</td>\n",
       "      <td>1</td>\n",
       "    </tr>\n",
       "    <tr>\n",
       "      <th>3</th>\n",
       "      <td>01/01/2016 11:05</td>\n",
       "      <td>76</td>\n",
       "      <td>Market at 4th</td>\n",
       "      <td>1</td>\n",
       "    </tr>\n",
       "    <tr>\n",
       "      <th>4</th>\n",
       "      <td>01/01/2016 11:09</td>\n",
       "      <td>74</td>\n",
       "      <td>Steuart at Market</td>\n",
       "      <td>2</td>\n",
       "    </tr>\n",
       "  </tbody>\n",
       "</table>\n",
       "</div>"
      ],
      "text/plain": [
       "          Date:Hour  Station ID                              Station Name  \\\n",
       "0   01/01/2016 0:01          70  San Francisco Caltrain (Townsend at 4th)   \n",
       "1   01/01/2016 0:21          62                             2nd at Folsom   \n",
       "2  01/01/2016 10:06          54                     Embarcadero at Bryant   \n",
       "3  01/01/2016 11:05          76                             Market at 4th   \n",
       "4  01/01/2016 11:09          74                         Steuart at Market   \n",
       "\n",
       "   Rides  \n",
       "0      1  \n",
       "1      2  \n",
       "2      1  \n",
       "3      1  \n",
       "4      2  "
      ]
     },
     "execution_count": 100,
     "metadata": {},
     "output_type": "execute_result"
    }
   ],
   "source": [
    "#transforming query data into DataFrame\n",
    "datadf = pd.DataFrame(data, columns=['Date:Hour','Station ID','Station Name','Rides'])\n",
    "datadf.head()"
   ]
  },
  {
   "cell_type": "code",
   "execution_count": 101,
   "metadata": {
    "collapsed": true
   },
   "outputs": [],
   "source": [
    "from pandas.tseries.offsets import MonthEnd\n",
    "#converting data to datetime\n",
    "datadf['Date:Hour'] = pd.to_datetime(datadf[\"Date:Hour\"])"
   ]
  },
  {
   "cell_type": "code",
   "execution_count": 102,
   "metadata": {
    "collapsed": true
   },
   "outputs": [],
   "source": [
    "#grouping date to day from hour of day\n",
    "datadf['Date'] = datadf['Date:Hour'].dt.strftime('%Y/%m/%d')"
   ]
  },
  {
   "cell_type": "code",
   "execution_count": 103,
   "metadata": {},
   "outputs": [
    {
     "data": {
      "text/html": [
       "<div>\n",
       "<style>\n",
       "    .dataframe thead tr:only-child th {\n",
       "        text-align: right;\n",
       "    }\n",
       "\n",
       "    .dataframe thead th {\n",
       "        text-align: left;\n",
       "    }\n",
       "\n",
       "    .dataframe tbody tr th {\n",
       "        vertical-align: top;\n",
       "    }\n",
       "</style>\n",
       "<table border=\"1\" class=\"dataframe\">\n",
       "  <thead>\n",
       "    <tr style=\"text-align: right;\">\n",
       "      <th></th>\n",
       "      <th>Date</th>\n",
       "      <th>Date:Hour</th>\n",
       "      <th>Station ID</th>\n",
       "      <th>Station Name</th>\n",
       "      <th>Rides</th>\n",
       "    </tr>\n",
       "  </thead>\n",
       "  <tbody>\n",
       "    <tr>\n",
       "      <th>0</th>\n",
       "      <td>2016/01/01</td>\n",
       "      <td>2016-01-01 00:01:00</td>\n",
       "      <td>70</td>\n",
       "      <td>San Francisco Caltrain (Townsend at 4th)</td>\n",
       "      <td>1</td>\n",
       "    </tr>\n",
       "    <tr>\n",
       "      <th>1</th>\n",
       "      <td>2016/01/01</td>\n",
       "      <td>2016-01-01 00:21:00</td>\n",
       "      <td>62</td>\n",
       "      <td>2nd at Folsom</td>\n",
       "      <td>2</td>\n",
       "    </tr>\n",
       "    <tr>\n",
       "      <th>2</th>\n",
       "      <td>2016/01/01</td>\n",
       "      <td>2016-01-01 10:06:00</td>\n",
       "      <td>54</td>\n",
       "      <td>Embarcadero at Bryant</td>\n",
       "      <td>1</td>\n",
       "    </tr>\n",
       "    <tr>\n",
       "      <th>3</th>\n",
       "      <td>2016/01/01</td>\n",
       "      <td>2016-01-01 11:05:00</td>\n",
       "      <td>76</td>\n",
       "      <td>Market at 4th</td>\n",
       "      <td>1</td>\n",
       "    </tr>\n",
       "    <tr>\n",
       "      <th>4</th>\n",
       "      <td>2016/01/01</td>\n",
       "      <td>2016-01-01 11:09:00</td>\n",
       "      <td>74</td>\n",
       "      <td>Steuart at Market</td>\n",
       "      <td>2</td>\n",
       "    </tr>\n",
       "  </tbody>\n",
       "</table>\n",
       "</div>"
      ],
      "text/plain": [
       "         Date           Date:Hour  Station ID  \\\n",
       "0  2016/01/01 2016-01-01 00:01:00          70   \n",
       "1  2016/01/01 2016-01-01 00:21:00          62   \n",
       "2  2016/01/01 2016-01-01 10:06:00          54   \n",
       "3  2016/01/01 2016-01-01 11:05:00          76   \n",
       "4  2016/01/01 2016-01-01 11:09:00          74   \n",
       "\n",
       "                               Station Name  Rides  \n",
       "0  San Francisco Caltrain (Townsend at 4th)      1  \n",
       "1                             2nd at Folsom      2  \n",
       "2                     Embarcadero at Bryant      1  \n",
       "3                             Market at 4th      1  \n",
       "4                         Steuart at Market      2  "
      ]
     },
     "execution_count": 103,
     "metadata": {},
     "output_type": "execute_result"
    }
   ],
   "source": [
    "datadf = datadf[['Date','Date:Hour','Station ID','Station Name','Rides']]\n",
    "datadf.head()"
   ]
  },
  {
   "cell_type": "code",
   "execution_count": 104,
   "metadata": {},
   "outputs": [
    {
     "data": {
      "text/html": [
       "<div>\n",
       "<style>\n",
       "    .dataframe thead tr:only-child th {\n",
       "        text-align: right;\n",
       "    }\n",
       "\n",
       "    .dataframe thead th {\n",
       "        text-align: left;\n",
       "    }\n",
       "\n",
       "    .dataframe tbody tr th {\n",
       "        vertical-align: top;\n",
       "    }\n",
       "</style>\n",
       "<table border=\"1\" class=\"dataframe\">\n",
       "  <thead>\n",
       "    <tr style=\"text-align: right;\">\n",
       "      <th></th>\n",
       "      <th></th>\n",
       "      <th></th>\n",
       "      <th>Rides</th>\n",
       "    </tr>\n",
       "    <tr>\n",
       "      <th>Date</th>\n",
       "      <th>Station ID</th>\n",
       "      <th>Station Name</th>\n",
       "      <th></th>\n",
       "    </tr>\n",
       "  </thead>\n",
       "  <tbody>\n",
       "    <tr>\n",
       "      <th rowspan=\"5\" valign=\"top\">2013/08/29</th>\n",
       "      <th>2</th>\n",
       "      <th>San Jose Diridon Caltrain Station</th>\n",
       "      <td>5</td>\n",
       "    </tr>\n",
       "    <tr>\n",
       "      <th>3</th>\n",
       "      <th>San Jose Civic Center</th>\n",
       "      <td>9</td>\n",
       "    </tr>\n",
       "    <tr>\n",
       "      <th>4</th>\n",
       "      <th>Santa Clara at Almaden</th>\n",
       "      <td>3</td>\n",
       "    </tr>\n",
       "    <tr>\n",
       "      <th>5</th>\n",
       "      <th>Adobe on Almaden</th>\n",
       "      <td>3</td>\n",
       "    </tr>\n",
       "    <tr>\n",
       "      <th>6</th>\n",
       "      <th>San Pedro Square</th>\n",
       "      <td>4</td>\n",
       "    </tr>\n",
       "  </tbody>\n",
       "</table>\n",
       "</div>"
      ],
      "text/plain": [
       "                                                         Rides\n",
       "Date       Station ID Station Name                            \n",
       "2013/08/29 2          San Jose Diridon Caltrain Station      5\n",
       "           3          San Jose Civic Center                  9\n",
       "           4          Santa Clara at Almaden                 3\n",
       "           5          Adobe on Almaden                       3\n",
       "           6          San Pedro Square                       4"
      ]
     },
     "execution_count": 104,
     "metadata": {},
     "output_type": "execute_result"
    }
   ],
   "source": [
    "datadfGB = datadf.groupby(['Date','Station ID','Station Name'])\n",
    "datagroupdatestartdf = datadfGB.sum()\n",
    "datagroupdatestartdf.head()"
   ]
  },
  {
   "cell_type": "code",
   "execution_count": 110,
   "metadata": {},
   "outputs": [
    {
     "data": {
      "text/html": [
       "<div>\n",
       "<style>\n",
       "    .dataframe thead tr:only-child th {\n",
       "        text-align: right;\n",
       "    }\n",
       "\n",
       "    .dataframe thead th {\n",
       "        text-align: left;\n",
       "    }\n",
       "\n",
       "    .dataframe tbody tr th {\n",
       "        vertical-align: top;\n",
       "    }\n",
       "</style>\n",
       "<table border=\"1\" class=\"dataframe\">\n",
       "  <thead>\n",
       "    <tr style=\"text-align: right;\">\n",
       "      <th></th>\n",
       "      <th>Date</th>\n",
       "      <th>Station ID</th>\n",
       "      <th>Station Name</th>\n",
       "      <th>Rides</th>\n",
       "    </tr>\n",
       "  </thead>\n",
       "  <tbody>\n",
       "    <tr>\n",
       "      <th>0</th>\n",
       "      <td>2013/08/29</td>\n",
       "      <td>2</td>\n",
       "      <td>San Jose Diridon Caltrain Station</td>\n",
       "      <td>5</td>\n",
       "    </tr>\n",
       "    <tr>\n",
       "      <th>1</th>\n",
       "      <td>2013/08/29</td>\n",
       "      <td>3</td>\n",
       "      <td>San Jose Civic Center</td>\n",
       "      <td>9</td>\n",
       "    </tr>\n",
       "    <tr>\n",
       "      <th>2</th>\n",
       "      <td>2013/08/29</td>\n",
       "      <td>4</td>\n",
       "      <td>Santa Clara at Almaden</td>\n",
       "      <td>3</td>\n",
       "    </tr>\n",
       "    <tr>\n",
       "      <th>3</th>\n",
       "      <td>2013/08/29</td>\n",
       "      <td>5</td>\n",
       "      <td>Adobe on Almaden</td>\n",
       "      <td>3</td>\n",
       "    </tr>\n",
       "    <tr>\n",
       "      <th>4</th>\n",
       "      <td>2013/08/29</td>\n",
       "      <td>6</td>\n",
       "      <td>San Pedro Square</td>\n",
       "      <td>4</td>\n",
       "    </tr>\n",
       "  </tbody>\n",
       "</table>\n",
       "</div>"
      ],
      "text/plain": [
       "         Date  Station ID                       Station Name  Rides\n",
       "0  2013/08/29           2  San Jose Diridon Caltrain Station      5\n",
       "1  2013/08/29           3              San Jose Civic Center      9\n",
       "2  2013/08/29           4             Santa Clara at Almaden      3\n",
       "3  2013/08/29           5                   Adobe on Almaden      3\n",
       "4  2013/08/29           6                   San Pedro Square      4"
      ]
     },
     "execution_count": 110,
     "metadata": {},
     "output_type": "execute_result"
    }
   ],
   "source": [
    "#exporting data out to csv then reading it back in to fill empty cells\n",
    "datagroupdatestartdf.to_csv('output/daily_rides_by_start_station.csv')\n",
    "datagroupdatestartdf = pd.read_csv('output/daily_rides_by_start_station.csv')\n",
    "datagroupdatestartdf.head()"
   ]
  },
  {
   "cell_type": "code",
   "execution_count": 106,
   "metadata": {},
   "outputs": [
    {
     "data": {
      "text/plain": [
       "['station', 'status', 'trip', 'trip_start_agg', 'weather']"
      ]
     },
     "execution_count": 106,
     "metadata": {},
     "output_type": "execute_result"
    }
   ],
   "source": [
    "# Create the inspector and connect it to the engine\n",
    "inspector = inspect(engine)\n",
    "\n",
    "# Collect the names of tables within the database\n",
    "inspector.get_table_names()"
   ]
  },
  {
   "cell_type": "code",
   "execution_count": 98,
   "metadata": {},
   "outputs": [
    {
     "name": "stdout",
     "output_type": "stream",
     "text": [
      "id INTEGER\n",
      "Date TEXT\n",
      "station_id INTEGER\n",
      "station_name VARCHAR\n",
      "ride INTEGER\n"
     ]
    }
   ],
   "source": [
    "columns = inspector.get_columns('trip_start_agg')\n",
    "for column in columns:\n",
    "    print(column[\"name\"], column[\"type\"])"
   ]
  },
  {
   "cell_type": "code",
   "execution_count": 112,
   "metadata": {},
   "outputs": [],
   "source": [
    "#moving agg data to SQLite table\n",
    "for index, row in datagroupdatestartdf.iterrows():\n",
    "    \n",
    "    tripadd = TripS(Date=row['Date'], \n",
    "                    station_id=row[\"Station ID\"], \n",
    "                    station_name=row[\"Station Name\"],\n",
    "                    ride=row[\"Rides\"])\n",
    "    session.add(tripadd)\n",
    "    session.commit()"
   ]
  },
  {
   "cell_type": "code",
   "execution_count": 121,
   "metadata": {
    "collapsed": true
   },
   "outputs": [],
   "source": [
    "#gathering ****END STATION*** data from DB table\n",
    "data = session.query(Trip.end_date,Trip.end_station_id,Trip.end_station_name,func.count(Trip.end_station_id)).group_by(Trip.end_date,Trip.end_station_id,Trip.end_station_name).all()"
   ]
  },
  {
   "cell_type": "code",
   "execution_count": 123,
   "metadata": {},
   "outputs": [
    {
     "data": {
      "text/html": [
       "<div>\n",
       "<style>\n",
       "    .dataframe thead tr:only-child th {\n",
       "        text-align: right;\n",
       "    }\n",
       "\n",
       "    .dataframe thead th {\n",
       "        text-align: left;\n",
       "    }\n",
       "\n",
       "    .dataframe tbody tr th {\n",
       "        vertical-align: top;\n",
       "    }\n",
       "</style>\n",
       "<table border=\"1\" class=\"dataframe\">\n",
       "  <thead>\n",
       "    <tr style=\"text-align: right;\">\n",
       "      <th></th>\n",
       "      <th>Date:Hour</th>\n",
       "      <th>End Station ID</th>\n",
       "      <th>End Station Name</th>\n",
       "      <th>Rides</th>\n",
       "    </tr>\n",
       "  </thead>\n",
       "  <tbody>\n",
       "    <tr>\n",
       "      <th>0</th>\n",
       "      <td>01/01/2016 0:19</td>\n",
       "      <td>55</td>\n",
       "      <td>Temporary Transbay Terminal (Howard at Beale)</td>\n",
       "      <td>1</td>\n",
       "    </tr>\n",
       "    <tr>\n",
       "      <th>1</th>\n",
       "      <td>01/01/2016 0:24</td>\n",
       "      <td>74</td>\n",
       "      <td>Steuart at Market</td>\n",
       "      <td>1</td>\n",
       "    </tr>\n",
       "    <tr>\n",
       "      <th>2</th>\n",
       "      <td>01/01/2016 10:13</td>\n",
       "      <td>70</td>\n",
       "      <td>San Francisco Caltrain (Townsend at 4th)</td>\n",
       "      <td>1</td>\n",
       "    </tr>\n",
       "    <tr>\n",
       "      <th>3</th>\n",
       "      <td>01/01/2016 11:43</td>\n",
       "      <td>49</td>\n",
       "      <td>Spear at Folsom</td>\n",
       "      <td>1</td>\n",
       "    </tr>\n",
       "    <tr>\n",
       "      <th>4</th>\n",
       "      <td>01/01/2016 11:52</td>\n",
       "      <td>50</td>\n",
       "      <td>Harry Bridges Plaza (Ferry Building)</td>\n",
       "      <td>1</td>\n",
       "    </tr>\n",
       "  </tbody>\n",
       "</table>\n",
       "</div>"
      ],
      "text/plain": [
       "          Date:Hour  End Station ID  \\\n",
       "0   01/01/2016 0:19              55   \n",
       "1   01/01/2016 0:24              74   \n",
       "2  01/01/2016 10:13              70   \n",
       "3  01/01/2016 11:43              49   \n",
       "4  01/01/2016 11:52              50   \n",
       "\n",
       "                                End Station Name  Rides  \n",
       "0  Temporary Transbay Terminal (Howard at Beale)      1  \n",
       "1                              Steuart at Market      1  \n",
       "2       San Francisco Caltrain (Townsend at 4th)      1  \n",
       "3                                Spear at Folsom      1  \n",
       "4           Harry Bridges Plaza (Ferry Building)      1  "
      ]
     },
     "execution_count": 123,
     "metadata": {},
     "output_type": "execute_result"
    }
   ],
   "source": [
    "#transforming query data into DataFrame\n",
    "dataendstationdf = pd.DataFrame(data, columns=['Date:Hour','End Station ID','End Station Name','Rides'])\n",
    "dataendstationdf.head()"
   ]
  },
  {
   "cell_type": "code",
   "execution_count": 125,
   "metadata": {},
   "outputs": [
    {
     "data": {
      "text/html": [
       "<div>\n",
       "<style>\n",
       "    .dataframe thead tr:only-child th {\n",
       "        text-align: right;\n",
       "    }\n",
       "\n",
       "    .dataframe thead th {\n",
       "        text-align: left;\n",
       "    }\n",
       "\n",
       "    .dataframe tbody tr th {\n",
       "        vertical-align: top;\n",
       "    }\n",
       "</style>\n",
       "<table border=\"1\" class=\"dataframe\">\n",
       "  <thead>\n",
       "    <tr style=\"text-align: right;\">\n",
       "      <th></th>\n",
       "      <th>Date</th>\n",
       "      <th>Date:Hour</th>\n",
       "      <th>End Station ID</th>\n",
       "      <th>End Station Name</th>\n",
       "      <th>Rides</th>\n",
       "    </tr>\n",
       "  </thead>\n",
       "  <tbody>\n",
       "    <tr>\n",
       "      <th>0</th>\n",
       "      <td>2016/01/01</td>\n",
       "      <td>2016-01-01 00:19:00</td>\n",
       "      <td>55</td>\n",
       "      <td>Temporary Transbay Terminal (Howard at Beale)</td>\n",
       "      <td>1</td>\n",
       "    </tr>\n",
       "    <tr>\n",
       "      <th>1</th>\n",
       "      <td>2016/01/01</td>\n",
       "      <td>2016-01-01 00:24:00</td>\n",
       "      <td>74</td>\n",
       "      <td>Steuart at Market</td>\n",
       "      <td>1</td>\n",
       "    </tr>\n",
       "    <tr>\n",
       "      <th>2</th>\n",
       "      <td>2016/01/01</td>\n",
       "      <td>2016-01-01 10:13:00</td>\n",
       "      <td>70</td>\n",
       "      <td>San Francisco Caltrain (Townsend at 4th)</td>\n",
       "      <td>1</td>\n",
       "    </tr>\n",
       "    <tr>\n",
       "      <th>3</th>\n",
       "      <td>2016/01/01</td>\n",
       "      <td>2016-01-01 11:43:00</td>\n",
       "      <td>49</td>\n",
       "      <td>Spear at Folsom</td>\n",
       "      <td>1</td>\n",
       "    </tr>\n",
       "    <tr>\n",
       "      <th>4</th>\n",
       "      <td>2016/01/01</td>\n",
       "      <td>2016-01-01 11:52:00</td>\n",
       "      <td>50</td>\n",
       "      <td>Harry Bridges Plaza (Ferry Building)</td>\n",
       "      <td>1</td>\n",
       "    </tr>\n",
       "  </tbody>\n",
       "</table>\n",
       "</div>"
      ],
      "text/plain": [
       "         Date           Date:Hour  End Station ID  \\\n",
       "0  2016/01/01 2016-01-01 00:19:00              55   \n",
       "1  2016/01/01 2016-01-01 00:24:00              74   \n",
       "2  2016/01/01 2016-01-01 10:13:00              70   \n",
       "3  2016/01/01 2016-01-01 11:43:00              49   \n",
       "4  2016/01/01 2016-01-01 11:52:00              50   \n",
       "\n",
       "                                End Station Name  Rides  \n",
       "0  Temporary Transbay Terminal (Howard at Beale)      1  \n",
       "1                              Steuart at Market      1  \n",
       "2       San Francisco Caltrain (Townsend at 4th)      1  \n",
       "3                                Spear at Folsom      1  \n",
       "4           Harry Bridges Plaza (Ferry Building)      1  "
      ]
     },
     "execution_count": 125,
     "metadata": {},
     "output_type": "execute_result"
    }
   ],
   "source": [
    "from pandas.tseries.offsets import MonthEnd\n",
    "#converting data to datetime\n",
    "dataendstationdf['Date:Hour'] = pd.to_datetime(dataendstationdf[\"Date:Hour\"])\n",
    "\n",
    "#grouping date to day from hour of day\n",
    "#creating a new date column without timestamp\n",
    "dataendstationdf['Date'] = dataendstationdf['Date:Hour'].dt.strftime('%Y/%m/%d')\n",
    "\n",
    "#renaming columns\n",
    "dataendstationdf = dataendstationdf[['Date','Date:Hour','End Station ID','End Station Name','Rides']]\n",
    "dataendstationdf.head()"
   ]
  },
  {
   "cell_type": "code",
   "execution_count": 127,
   "metadata": {},
   "outputs": [
    {
     "data": {
      "text/html": [
       "<div>\n",
       "<style>\n",
       "    .dataframe thead tr:only-child th {\n",
       "        text-align: right;\n",
       "    }\n",
       "\n",
       "    .dataframe thead th {\n",
       "        text-align: left;\n",
       "    }\n",
       "\n",
       "    .dataframe tbody tr th {\n",
       "        vertical-align: top;\n",
       "    }\n",
       "</style>\n",
       "<table border=\"1\" class=\"dataframe\">\n",
       "  <thead>\n",
       "    <tr style=\"text-align: right;\">\n",
       "      <th></th>\n",
       "      <th></th>\n",
       "      <th></th>\n",
       "      <th>Rides</th>\n",
       "    </tr>\n",
       "    <tr>\n",
       "      <th>Date</th>\n",
       "      <th>End Station ID</th>\n",
       "      <th>End Station Name</th>\n",
       "      <th></th>\n",
       "    </tr>\n",
       "  </thead>\n",
       "  <tbody>\n",
       "    <tr>\n",
       "      <th rowspan=\"5\" valign=\"top\">2013/08/29</th>\n",
       "      <th>2</th>\n",
       "      <th>San Jose Diridon Caltrain Station</th>\n",
       "      <td>6</td>\n",
       "    </tr>\n",
       "    <tr>\n",
       "      <th>3</th>\n",
       "      <th>San Jose Civic Center</th>\n",
       "      <td>5</td>\n",
       "    </tr>\n",
       "    <tr>\n",
       "      <th>4</th>\n",
       "      <th>Santa Clara at Almaden</th>\n",
       "      <td>3</td>\n",
       "    </tr>\n",
       "    <tr>\n",
       "      <th>5</th>\n",
       "      <th>Adobe on Almaden</th>\n",
       "      <td>2</td>\n",
       "    </tr>\n",
       "    <tr>\n",
       "      <th>6</th>\n",
       "      <th>San Pedro Square</th>\n",
       "      <td>6</td>\n",
       "    </tr>\n",
       "  </tbody>\n",
       "</table>\n",
       "</div>"
      ],
      "text/plain": [
       "                                                             Rides\n",
       "Date       End Station ID End Station Name                        \n",
       "2013/08/29 2              San Jose Diridon Caltrain Station      6\n",
       "           3              San Jose Civic Center                  5\n",
       "           4              Santa Clara at Almaden                 3\n",
       "           5              Adobe on Almaden                       2\n",
       "           6              San Pedro Square                       6"
      ]
     },
     "execution_count": 127,
     "metadata": {},
     "output_type": "execute_result"
    }
   ],
   "source": [
    "#grouping columns to date, end station ID, and end station name\n",
    "dataendstationdfGB = dataendstationdf.groupby(['Date','End Station ID','End Station Name'])\n",
    "datagroupenddatedf = dataendstationdfGB.sum()\n",
    "datagroupenddatedf.head()"
   ]
  },
  {
   "cell_type": "code",
   "execution_count": 128,
   "metadata": {},
   "outputs": [
    {
     "data": {
      "text/html": [
       "<div>\n",
       "<style>\n",
       "    .dataframe thead tr:only-child th {\n",
       "        text-align: right;\n",
       "    }\n",
       "\n",
       "    .dataframe thead th {\n",
       "        text-align: left;\n",
       "    }\n",
       "\n",
       "    .dataframe tbody tr th {\n",
       "        vertical-align: top;\n",
       "    }\n",
       "</style>\n",
       "<table border=\"1\" class=\"dataframe\">\n",
       "  <thead>\n",
       "    <tr style=\"text-align: right;\">\n",
       "      <th></th>\n",
       "      <th>Date</th>\n",
       "      <th>End Station ID</th>\n",
       "      <th>End Station Name</th>\n",
       "      <th>Rides</th>\n",
       "    </tr>\n",
       "  </thead>\n",
       "  <tbody>\n",
       "    <tr>\n",
       "      <th>0</th>\n",
       "      <td>2013/08/29</td>\n",
       "      <td>2</td>\n",
       "      <td>San Jose Diridon Caltrain Station</td>\n",
       "      <td>6</td>\n",
       "    </tr>\n",
       "    <tr>\n",
       "      <th>1</th>\n",
       "      <td>2013/08/29</td>\n",
       "      <td>3</td>\n",
       "      <td>San Jose Civic Center</td>\n",
       "      <td>5</td>\n",
       "    </tr>\n",
       "    <tr>\n",
       "      <th>2</th>\n",
       "      <td>2013/08/29</td>\n",
       "      <td>4</td>\n",
       "      <td>Santa Clara at Almaden</td>\n",
       "      <td>3</td>\n",
       "    </tr>\n",
       "    <tr>\n",
       "      <th>3</th>\n",
       "      <td>2013/08/29</td>\n",
       "      <td>5</td>\n",
       "      <td>Adobe on Almaden</td>\n",
       "      <td>2</td>\n",
       "    </tr>\n",
       "    <tr>\n",
       "      <th>4</th>\n",
       "      <td>2013/08/29</td>\n",
       "      <td>6</td>\n",
       "      <td>San Pedro Square</td>\n",
       "      <td>6</td>\n",
       "    </tr>\n",
       "  </tbody>\n",
       "</table>\n",
       "</div>"
      ],
      "text/plain": [
       "         Date  End Station ID                   End Station Name  Rides\n",
       "0  2013/08/29               2  San Jose Diridon Caltrain Station      6\n",
       "1  2013/08/29               3              San Jose Civic Center      5\n",
       "2  2013/08/29               4             Santa Clara at Almaden      3\n",
       "3  2013/08/29               5                   Adobe on Almaden      2\n",
       "4  2013/08/29               6                   San Pedro Square      6"
      ]
     },
     "execution_count": 128,
     "metadata": {},
     "output_type": "execute_result"
    }
   ],
   "source": [
    "#exporting data out to csv then reading it back in to fill empty cells\n",
    "datagroupenddatedf.to_csv('output/daily_rides_by_end_station.csv')\n",
    "datagroupenddatedf = pd.read_csv('output/daily_rides_by_end_station.csv')\n",
    "datagroupenddatedf.head()"
   ]
  },
  {
   "cell_type": "code",
   "execution_count": 129,
   "metadata": {
    "collapsed": true
   },
   "outputs": [],
   "source": [
    "Base = declarative_base()\n",
    "\n",
    "# Define a class for TRip End table\n",
    "class TripE(Base):\n",
    "    __tablename__ = \"trip_end_agg\"\n",
    "    \n",
    "    id = Column(Integer, primary_key=True)\n",
    "    Date  = Column(Text)\n",
    "    end_station_id = Column(Integer)\n",
    "    end_station_name = Column(String)\n",
    "    ride = Column(Integer)"
   ]
  },
  {
   "cell_type": "code",
   "execution_count": 131,
   "metadata": {
    "collapsed": true
   },
   "outputs": [],
   "source": [
    "#adding New trip_start_agg Table to Sqlite DB\n",
    "conn = engine.connect()\n",
    "Base.metadata.create_all(conn)"
   ]
  },
  {
   "cell_type": "code",
   "execution_count": 132,
   "metadata": {},
   "outputs": [
    {
     "data": {
      "text/plain": [
       "['station', 'status', 'trip', 'trip_end_agg', 'trip_start_agg', 'weather']"
      ]
     },
     "execution_count": 132,
     "metadata": {},
     "output_type": "execute_result"
    }
   ],
   "source": [
    "# Create the inspector and connect it to the engine\n",
    "inspector = inspect(engine)\n",
    "\n",
    "# Collect the names of tables within the database\n",
    "inspector.get_table_names()"
   ]
  },
  {
   "cell_type": "code",
   "execution_count": 133,
   "metadata": {
    "collapsed": true
   },
   "outputs": [],
   "source": [
    "#moving agg data to SQLite table\n",
    "for index, row in datagroupenddatedf.iterrows():\n",
    "    \n",
    "    tripadd = TripE(Date=row['Date'], \n",
    "                    end_station_id=row[\"End Station ID\"], \n",
    "                    end_station_name=row[\"End Station Name\"],\n",
    "                    ride=row[\"Rides\"])\n",
    "    session.add(tripadd)\n",
    "    session.commit()"
   ]
  },
  {
   "cell_type": "code",
   "execution_count": null,
   "metadata": {
    "collapsed": true
   },
   "outputs": [],
   "source": []
  }
 ],
 "metadata": {
  "kernelspec": {
   "display_name": "Python 3",
   "language": "python",
   "name": "python3"
  },
  "language_info": {
   "codemirror_mode": {
    "name": "ipython",
    "version": 3
   },
   "file_extension": ".py",
   "mimetype": "text/x-python",
   "name": "python",
   "nbconvert_exporter": "python",
   "pygments_lexer": "ipython3",
   "version": "3.6.2"
  }
 },
 "nbformat": 4,
 "nbformat_minor": 2
}
