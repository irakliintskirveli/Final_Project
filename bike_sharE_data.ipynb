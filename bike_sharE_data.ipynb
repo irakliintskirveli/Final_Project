{
 "cells": [
  {
   "cell_type": "code",
   "execution_count": 115,
   "metadata": {
    "collapsed": true
   },
   "outputs": [],
   "source": [
    "#!pip install alembic\n",
    "\n",
    "import pandas as pd\n",
    "import numpy as np\n",
    "\n",
    "#sqlalchemy \n",
    "import sqlalchemy\n",
    "from sqlalchemy import create_engine, inspect, func, table\n",
    "from sqlalchemy.orm import Session\n",
    "from sqlalchemy.ext.automap import automap_base\n",
    "from sqlalchemy import Column, Integer, String, Float, Text, DateTime\n",
    "from sqlalchemy.ext.declarative import declarative_base\n"
   ]
  },
  {
   "cell_type": "code",
   "execution_count": 116,
   "metadata": {
    "collapsed": true
   },
   "outputs": [],
   "source": [
    "\n",
    "# Create the connection engine\n",
    "engine = create_engine(\"sqlite:///data/sf_bike_share.sqlite\")\n",
    "\n",
    "\n",
    "#Base.metadata.create_all(engine)"
   ]
  },
  {
   "cell_type": "code",
   "execution_count": 117,
   "metadata": {},
   "outputs": [
    {
     "data": {
      "text/plain": [
       "['station', 'status', 'trip']"
      ]
     },
     "execution_count": 117,
     "metadata": {},
     "output_type": "execute_result"
    }
   ],
   "source": [
    "#declaring auto_base\n",
    "Base = automap_base()\n",
    "\n",
    "#reflecting tables in the hawaii.db\n",
    "Base.prepare(engine, reflect=True)\n",
    "\n",
    "#gathering tables from DB\n",
    "Base.classes.keys()"
   ]
  },
  {
   "cell_type": "code",
   "execution_count": 118,
   "metadata": {
    "collapsed": true
   },
   "outputs": [],
   "source": [
    "#setting tables to variables\n",
    "Station = Base.classes.station\n",
    "Status = Base.classes.status\n",
    "Trip = Base.classes.trip"
   ]
  },
  {
   "cell_type": "code",
   "execution_count": 119,
   "metadata": {},
   "outputs": [
    {
     "data": {
      "text/plain": [
       "['station', 'status', 'trip', 'weather']"
      ]
     },
     "execution_count": 119,
     "metadata": {},
     "output_type": "execute_result"
    }
   ],
   "source": [
    "# Create the inspector and connect it to the engine\n",
    "inspector = inspect(engine)\n",
    "\n",
    "# Collect the names of tables within the database\n",
    "inspector.get_table_names()"
   ]
  },
  {
   "cell_type": "code",
   "execution_count": 41,
   "metadata": {},
   "outputs": [
    {
     "name": "stdout",
     "output_type": "stream",
     "text": [
      "id INTEGER\n",
      "name TEXT\n",
      "lat NUMERIC\n",
      "long NUMERIC\n",
      "dock_count INTEGER\n",
      "city TEXT\n",
      "installation_date TEXT\n"
     ]
    }
   ],
   "source": [
    "columns = inspector.get_columns('station')\n",
    "for column in columns:\n",
    "    print(column[\"name\"], column[\"type\"])"
   ]
  },
  {
   "cell_type": "code",
   "execution_count": 42,
   "metadata": {},
   "outputs": [
    {
     "name": "stdout",
     "output_type": "stream",
     "text": [
      "station_id INTEGER\n",
      "bikes_available INTEGER\n",
      "docks_available INTEGER\n",
      "time TEXT\n",
      "id INTEGER\n"
     ]
    }
   ],
   "source": [
    "columns = inspector.get_columns('status')\n",
    "for column in columns:\n",
    "    print(column[\"name\"], column[\"type\"])"
   ]
  },
  {
   "cell_type": "code",
   "execution_count": 43,
   "metadata": {},
   "outputs": [
    {
     "name": "stdout",
     "output_type": "stream",
     "text": [
      "id INTEGER\n",
      "duration INTEGER\n",
      "start_date TEXT\n",
      "start_station_name TEXT\n",
      "start_station_id INTEGER\n",
      "end_date TEXT\n",
      "end_station_name TEXT\n",
      "end_station_id INTEGER\n",
      "bike_id INTEGER\n",
      "subscription_type TEXT\n",
      "zip_code INTEGER\n"
     ]
    }
   ],
   "source": [
    "columns = inspector.get_columns('trip')\n",
    "for column in columns:\n",
    "    print(column[\"name\"], column[\"type\"])"
   ]
  },
  {
   "cell_type": "code",
   "execution_count": 120,
   "metadata": {
    "collapsed": true
   },
   "outputs": [],
   "source": [
    "# Create our session (link) from Python to the DB\n",
    "session = Session(bind=engine)"
   ]
  },
  {
   "cell_type": "code",
   "execution_count": 45,
   "metadata": {},
   "outputs": [
    {
     "name": "stdout",
     "output_type": "stream",
     "text": [
      "2\n",
      "San Jose Diridon Caltrain Station\n",
      "37.3297320000\n",
      "-121.9017820000\n",
      "27\n",
      "San Jose\n",
      "8/6/2013\n",
      "3\n",
      "San Jose Civic Center\n",
      "37.3306980000\n",
      "-121.8889790000\n",
      "15\n",
      "San Jose\n",
      "8/5/2013\n"
     ]
    },
    {
     "name": "stderr",
     "output_type": "stream",
     "text": [
      "/anaconda3/lib/python3.6/site-packages/sqlalchemy/sql/sqltypes.py:596: SAWarning: Dialect sqlite+pysqlite does *not* support Decimal objects natively, and SQLAlchemy must convert from floating point - rounding errors and other issues may occur. Please consider storing Decimal numbers as strings or integers on this platform for lossless storage.\n",
      "  'storage.' % (dialect.name, dialect.driver))\n"
     ]
    }
   ],
   "source": [
    "#checking the data in table\n",
    "station_list = session.query(Station).limit(2)\n",
    "for x in station_list:\n",
    "    print(x.id)\n",
    "    print(x.name)\n",
    "    print(x.lat)\n",
    "    print(x.long)\n",
    "    print(x.dock_count)\n",
    "    print(x.city)\n",
    "    print(x.installation_date)"
   ]
  },
  {
   "cell_type": "code",
   "execution_count": 101,
   "metadata": {},
   "outputs": [
    {
     "name": "stdout",
     "output_type": "stream",
     "text": [
      "4069\n",
      "174\n",
      "8/29/2013 9:08\n",
      "2nd at South Park\n",
      "64\n",
      "4073\n",
      "1067\n",
      "8/29/2013 9:24\n",
      "South Van Ness at Market\n",
      "66\n",
      "4074\n",
      "1131\n",
      "8/29/2013 9:24\n",
      "South Van Ness at Market\n",
      "66\n",
      "4075\n",
      "1117\n",
      "8/29/2013 9:24\n",
      "South Van Ness at Market\n",
      "66\n",
      "4076\n",
      "1118\n",
      "8/29/2013 9:25\n",
      "South Van Ness at Market\n",
      "66\n",
      "4078\n",
      "3829\n",
      "8/29/2013 9:31\n",
      "Redwood City Caltrain Station\n",
      "22\n",
      "4079\n",
      "995\n",
      "8/29/2013 9:35\n",
      "South Van Ness at Market\n",
      "66\n",
      "4080\n",
      "764\n",
      "8/29/2013 9:36\n",
      "South Van Ness at Market\n",
      "66\n",
      "4081\n",
      "218\n",
      "8/29/2013 9:38\n",
      "Mountain View City Hall\n",
      "27\n",
      "4084\n",
      "287\n",
      "8/29/2013 9:41\n",
      "Mountain View City Hall\n",
      "27\n"
     ]
    }
   ],
   "source": [
    "#checking the data commit to DB\n",
    "trip_list = session.query(Trip).limit(10)\n",
    "for x in trip_list:\n",
    "    print(x.id)\n",
    "    print(x.duration)\n",
    "    print(x.start_date)\n",
    "    print(x.start_station_name)\n",
    "    print(x.start_station_id)"
   ]
  },
  {
   "cell_type": "code",
   "execution_count": 71,
   "metadata": {},
   "outputs": [],
   "source": [
    "data = session.query(Trip.start_date,Trip.start_station_id,Trip.start_station_name,func.count(Trip.start_station_id)).group_by(Trip.start_date,Trip.start_station_id,Trip.start_station_name).all()"
   ]
  },
  {
   "cell_type": "code",
   "execution_count": 72,
   "metadata": {},
   "outputs": [
    {
     "data": {
      "text/html": [
       "<div>\n",
       "<style>\n",
       "    .dataframe thead tr:only-child th {\n",
       "        text-align: right;\n",
       "    }\n",
       "\n",
       "    .dataframe thead th {\n",
       "        text-align: left;\n",
       "    }\n",
       "\n",
       "    .dataframe tbody tr th {\n",
       "        vertical-align: top;\n",
       "    }\n",
       "</style>\n",
       "<table border=\"1\" class=\"dataframe\">\n",
       "  <thead>\n",
       "    <tr style=\"text-align: right;\">\n",
       "      <th></th>\n",
       "      <th>Month</th>\n",
       "      <th>Station ID</th>\n",
       "      <th>Station Name</th>\n",
       "      <th>Rides</th>\n",
       "    </tr>\n",
       "  </thead>\n",
       "  <tbody>\n",
       "    <tr>\n",
       "      <th>0</th>\n",
       "      <td>1/1/2014 0:14</td>\n",
       "      <td>58</td>\n",
       "      <td>San Francisco City Hall</td>\n",
       "      <td>2</td>\n",
       "    </tr>\n",
       "    <tr>\n",
       "      <th>1</th>\n",
       "      <td>1/1/2014 0:17</td>\n",
       "      <td>60</td>\n",
       "      <td>Embarcadero at Sansome</td>\n",
       "      <td>1</td>\n",
       "    </tr>\n",
       "    <tr>\n",
       "      <th>2</th>\n",
       "      <td>1/1/2014 0:23</td>\n",
       "      <td>74</td>\n",
       "      <td>Steuart at Market</td>\n",
       "      <td>2</td>\n",
       "    </tr>\n",
       "    <tr>\n",
       "      <th>3</th>\n",
       "      <td>1/1/2014 0:24</td>\n",
       "      <td>74</td>\n",
       "      <td>Steuart at Market</td>\n",
       "      <td>2</td>\n",
       "    </tr>\n",
       "    <tr>\n",
       "      <th>4</th>\n",
       "      <td>1/1/2014 0:25</td>\n",
       "      <td>57</td>\n",
       "      <td>5th at Howard</td>\n",
       "      <td>2</td>\n",
       "    </tr>\n",
       "  </tbody>\n",
       "</table>\n",
       "</div>"
      ],
      "text/plain": [
       "           Month  Station ID             Station Name  Rides\n",
       "0  1/1/2014 0:14          58  San Francisco City Hall      2\n",
       "1  1/1/2014 0:17          60   Embarcadero at Sansome      1\n",
       "2  1/1/2014 0:23          74        Steuart at Market      2\n",
       "3  1/1/2014 0:24          74        Steuart at Market      2\n",
       "4  1/1/2014 0:25          57            5th at Howard      2"
      ]
     },
     "execution_count": 72,
     "metadata": {},
     "output_type": "execute_result"
    }
   ],
   "source": [
    "datadf = pd.DataFrame(data, columns=['Month','Station ID','Station Name','Rides'])\n",
    "datadf.head()"
   ]
  },
  {
   "cell_type": "code",
   "execution_count": 74,
   "metadata": {},
   "outputs": [
    {
     "data": {
      "text/plain": [
       "0        2014-01-01 00:14:00\n",
       "1        2014-01-01 00:17:00\n",
       "2        2014-01-01 00:23:00\n",
       "3        2014-01-01 00:24:00\n",
       "4        2014-01-01 00:25:00\n",
       "5        2014-01-01 00:25:00\n",
       "6        2014-01-01 00:28:00\n",
       "7        2014-01-01 00:32:00\n",
       "8        2014-01-01 00:33:00\n",
       "9        2014-01-01 00:34:00\n",
       "10       2014-01-01 00:36:00\n",
       "11       2014-01-01 00:37:00\n",
       "12       2014-01-01 00:39:00\n",
       "13       2014-01-01 00:58:00\n",
       "14       2014-01-01 10:07:00\n",
       "15       2014-01-01 10:09:00\n",
       "16       2014-01-01 10:11:00\n",
       "17       2014-01-01 10:12:00\n",
       "18       2014-01-01 10:14:00\n",
       "19       2014-01-01 10:25:00\n",
       "20       2014-01-01 10:26:00\n",
       "21       2014-01-01 10:32:00\n",
       "22       2014-01-01 10:32:00\n",
       "23       2014-01-01 10:33:00\n",
       "24       2014-01-01 10:34:00\n",
       "25       2014-01-01 10:37:00\n",
       "26       2014-01-01 10:38:00\n",
       "27       2014-01-01 10:38:00\n",
       "28       2014-01-01 10:39:00\n",
       "29       2014-01-01 10:41:00\n",
       "                 ...        \n",
       "615545   2014-09-09 09:39:00\n",
       "615546   2014-09-09 09:40:00\n",
       "615547   2014-09-09 09:40:00\n",
       "615548   2014-09-09 09:40:00\n",
       "615549   2014-09-09 09:41:00\n",
       "615550   2014-09-09 09:41:00\n",
       "615551   2014-09-09 09:42:00\n",
       "615552   2014-09-09 09:44:00\n",
       "615553   2014-09-09 09:45:00\n",
       "615554   2014-09-09 09:45:00\n",
       "615555   2014-09-09 09:45:00\n",
       "615556   2014-09-09 09:46:00\n",
       "615557   2014-09-09 09:46:00\n",
       "615558   2014-09-09 09:46:00\n",
       "615559   2014-09-09 09:47:00\n",
       "615560   2014-09-09 09:47:00\n",
       "615561   2014-09-09 09:48:00\n",
       "615562   2014-09-09 09:48:00\n",
       "615563   2014-09-09 09:49:00\n",
       "615564   2014-09-09 09:49:00\n",
       "615565   2014-09-09 09:50:00\n",
       "615566   2014-09-09 09:50:00\n",
       "615567   2014-09-09 09:50:00\n",
       "615568   2014-09-09 09:51:00\n",
       "615569   2014-09-09 09:52:00\n",
       "615570   2014-09-09 09:53:00\n",
       "615571   2014-09-09 09:54:00\n",
       "615572   2014-09-09 09:55:00\n",
       "615573   2014-09-09 09:59:00\n",
       "615574   2014-09-09 09:59:00\n",
       "Name: Month, Length: 615575, dtype: datetime64[ns]"
      ]
     },
     "execution_count": 74,
     "metadata": {},
     "output_type": "execute_result"
    }
   ],
   "source": [
    "pd.to_datetime(datadf['Month'])"
   ]
  },
  {
   "cell_type": "code",
   "execution_count": 78,
   "metadata": {},
   "outputs": [],
   "source": [
    "\n",
    "datadf[\"Month\"] = pd.to_datetime(datadf[\"Month\"])"
   ]
  },
  {
   "cell_type": "code",
   "execution_count": 80,
   "metadata": {},
   "outputs": [],
   "source": [
    "datadf['Month_up'] = datadf['Month'].dt.date"
   ]
  },
  {
   "cell_type": "code",
   "execution_count": 84,
   "metadata": {},
   "outputs": [
    {
     "data": {
      "text/html": [
       "<div>\n",
       "<style>\n",
       "    .dataframe thead tr:only-child th {\n",
       "        text-align: right;\n",
       "    }\n",
       "\n",
       "    .dataframe thead th {\n",
       "        text-align: left;\n",
       "    }\n",
       "\n",
       "    .dataframe tbody tr th {\n",
       "        vertical-align: top;\n",
       "    }\n",
       "</style>\n",
       "<table border=\"1\" class=\"dataframe\">\n",
       "  <thead>\n",
       "    <tr style=\"text-align: right;\">\n",
       "      <th></th>\n",
       "      <th>Month_up</th>\n",
       "      <th>Month</th>\n",
       "      <th>Station ID</th>\n",
       "      <th>Station Name</th>\n",
       "      <th>Rides</th>\n",
       "    </tr>\n",
       "  </thead>\n",
       "  <tbody>\n",
       "    <tr>\n",
       "      <th>0</th>\n",
       "      <td>2014-01-01</td>\n",
       "      <td>2014-01-01 00:14:00</td>\n",
       "      <td>58</td>\n",
       "      <td>San Francisco City Hall</td>\n",
       "      <td>2</td>\n",
       "    </tr>\n",
       "    <tr>\n",
       "      <th>1</th>\n",
       "      <td>2014-01-01</td>\n",
       "      <td>2014-01-01 00:17:00</td>\n",
       "      <td>60</td>\n",
       "      <td>Embarcadero at Sansome</td>\n",
       "      <td>1</td>\n",
       "    </tr>\n",
       "    <tr>\n",
       "      <th>2</th>\n",
       "      <td>2014-01-01</td>\n",
       "      <td>2014-01-01 00:23:00</td>\n",
       "      <td>74</td>\n",
       "      <td>Steuart at Market</td>\n",
       "      <td>2</td>\n",
       "    </tr>\n",
       "    <tr>\n",
       "      <th>3</th>\n",
       "      <td>2014-01-01</td>\n",
       "      <td>2014-01-01 00:24:00</td>\n",
       "      <td>74</td>\n",
       "      <td>Steuart at Market</td>\n",
       "      <td>2</td>\n",
       "    </tr>\n",
       "    <tr>\n",
       "      <th>4</th>\n",
       "      <td>2014-01-01</td>\n",
       "      <td>2014-01-01 00:25:00</td>\n",
       "      <td>57</td>\n",
       "      <td>5th at Howard</td>\n",
       "      <td>2</td>\n",
       "    </tr>\n",
       "  </tbody>\n",
       "</table>\n",
       "</div>"
      ],
      "text/plain": [
       "     Month_up               Month  Station ID             Station Name  Rides\n",
       "0  2014-01-01 2014-01-01 00:14:00          58  San Francisco City Hall      2\n",
       "1  2014-01-01 2014-01-01 00:17:00          60   Embarcadero at Sansome      1\n",
       "2  2014-01-01 2014-01-01 00:23:00          74        Steuart at Market      2\n",
       "3  2014-01-01 2014-01-01 00:24:00          74        Steuart at Market      2\n",
       "4  2014-01-01 2014-01-01 00:25:00          57            5th at Howard      2"
      ]
     },
     "execution_count": 84,
     "metadata": {},
     "output_type": "execute_result"
    }
   ],
   "source": [
    "datadf = datadf[['Month_up','Month','Station ID','Station Name','Rides']]\n",
    "datadf.head()"
   ]
  },
  {
   "cell_type": "code",
   "execution_count": 113,
   "metadata": {},
   "outputs": [],
   "source": [
    "datadfGB = datadf.groupby(['Month_up','Station ID','Station Name'])\n",
    "datagroupmonthstartdf = datadfGB.sum()"
   ]
  },
  {
   "cell_type": "code",
   "execution_count": 114,
   "metadata": {
    "collapsed": true
   },
   "outputs": [],
   "source": [
    "datagroupmonthstartdf.to_csv('output/month_rides_by_start_station.csv')"
   ]
  },
  {
   "cell_type": "code",
   "execution_count": 121,
   "metadata": {
    "collapsed": true
   },
   "outputs": [],
   "source": [
    "#gathering end station data from DB table\n",
    "data = session.query(Trip.end_date,Trip.end_station_id,Trip.end_station_name,func.count(Trip.end_station_id)).group_by(Trip.end_date,Trip.end_station_id,Trip.end_station_name).all()"
   ]
  },
  {
   "cell_type": "code",
   "execution_count": 122,
   "metadata": {},
   "outputs": [
    {
     "data": {
      "text/html": [
       "<div>\n",
       "<style>\n",
       "    .dataframe thead tr:only-child th {\n",
       "        text-align: right;\n",
       "    }\n",
       "\n",
       "    .dataframe thead th {\n",
       "        text-align: left;\n",
       "    }\n",
       "\n",
       "    .dataframe tbody tr th {\n",
       "        vertical-align: top;\n",
       "    }\n",
       "</style>\n",
       "<table border=\"1\" class=\"dataframe\">\n",
       "  <thead>\n",
       "    <tr style=\"text-align: right;\">\n",
       "      <th></th>\n",
       "      <th>Month</th>\n",
       "      <th>Station ID</th>\n",
       "      <th>Station Name</th>\n",
       "      <th>Rides</th>\n",
       "    </tr>\n",
       "  </thead>\n",
       "  <tbody>\n",
       "    <tr>\n",
       "      <th>0</th>\n",
       "      <td>1/1/2014 0:21</td>\n",
       "      <td>65</td>\n",
       "      <td>Townsend at 7th</td>\n",
       "      <td>2</td>\n",
       "    </tr>\n",
       "    <tr>\n",
       "      <th>1</th>\n",
       "      <td>1/1/2014 0:35</td>\n",
       "      <td>68</td>\n",
       "      <td>Yerba Buena Center of the Arts (3rd @ Howard)</td>\n",
       "      <td>2</td>\n",
       "    </tr>\n",
       "    <tr>\n",
       "      <th>2</th>\n",
       "      <td>1/1/2014 0:37</td>\n",
       "      <td>46</td>\n",
       "      <td>Washington at Kearney</td>\n",
       "      <td>3</td>\n",
       "    </tr>\n",
       "    <tr>\n",
       "      <th>3</th>\n",
       "      <td>1/1/2014 0:42</td>\n",
       "      <td>56</td>\n",
       "      <td>Beale at Market</td>\n",
       "      <td>1</td>\n",
       "    </tr>\n",
       "    <tr>\n",
       "      <th>4</th>\n",
       "      <td>1/1/2014 0:47</td>\n",
       "      <td>49</td>\n",
       "      <td>Spear at Folsom</td>\n",
       "      <td>1</td>\n",
       "    </tr>\n",
       "  </tbody>\n",
       "</table>\n",
       "</div>"
      ],
      "text/plain": [
       "           Month  Station ID                                   Station Name  \\\n",
       "0  1/1/2014 0:21          65                                Townsend at 7th   \n",
       "1  1/1/2014 0:35          68  Yerba Buena Center of the Arts (3rd @ Howard)   \n",
       "2  1/1/2014 0:37          46                          Washington at Kearney   \n",
       "3  1/1/2014 0:42          56                                Beale at Market   \n",
       "4  1/1/2014 0:47          49                                Spear at Folsom   \n",
       "\n",
       "   Rides  \n",
       "0      2  \n",
       "1      2  \n",
       "2      3  \n",
       "3      1  \n",
       "4      1  "
      ]
     },
     "execution_count": 122,
     "metadata": {},
     "output_type": "execute_result"
    }
   ],
   "source": [
    "#loading query result into DF\n",
    "dataendstationdf = pd.DataFrame(data, columns=['Month','Station ID','Station Name','Rides'])\n",
    "dataendstationdf.head()"
   ]
  },
  {
   "cell_type": "code",
   "execution_count": 123,
   "metadata": {},
   "outputs": [
    {
     "data": {
      "text/html": [
       "<div>\n",
       "<style>\n",
       "    .dataframe thead tr:only-child th {\n",
       "        text-align: right;\n",
       "    }\n",
       "\n",
       "    .dataframe thead th {\n",
       "        text-align: left;\n",
       "    }\n",
       "\n",
       "    .dataframe tbody tr th {\n",
       "        vertical-align: top;\n",
       "    }\n",
       "</style>\n",
       "<table border=\"1\" class=\"dataframe\">\n",
       "  <thead>\n",
       "    <tr style=\"text-align: right;\">\n",
       "      <th></th>\n",
       "      <th>Month_up</th>\n",
       "      <th>Month</th>\n",
       "      <th>Station ID</th>\n",
       "      <th>Station Name</th>\n",
       "      <th>Rides</th>\n",
       "    </tr>\n",
       "  </thead>\n",
       "  <tbody>\n",
       "    <tr>\n",
       "      <th>0</th>\n",
       "      <td>2014-01-01</td>\n",
       "      <td>2014-01-01 00:21:00</td>\n",
       "      <td>65</td>\n",
       "      <td>Townsend at 7th</td>\n",
       "      <td>2</td>\n",
       "    </tr>\n",
       "    <tr>\n",
       "      <th>1</th>\n",
       "      <td>2014-01-01</td>\n",
       "      <td>2014-01-01 00:35:00</td>\n",
       "      <td>68</td>\n",
       "      <td>Yerba Buena Center of the Arts (3rd @ Howard)</td>\n",
       "      <td>2</td>\n",
       "    </tr>\n",
       "    <tr>\n",
       "      <th>2</th>\n",
       "      <td>2014-01-01</td>\n",
       "      <td>2014-01-01 00:37:00</td>\n",
       "      <td>46</td>\n",
       "      <td>Washington at Kearney</td>\n",
       "      <td>3</td>\n",
       "    </tr>\n",
       "    <tr>\n",
       "      <th>3</th>\n",
       "      <td>2014-01-01</td>\n",
       "      <td>2014-01-01 00:42:00</td>\n",
       "      <td>56</td>\n",
       "      <td>Beale at Market</td>\n",
       "      <td>1</td>\n",
       "    </tr>\n",
       "    <tr>\n",
       "      <th>4</th>\n",
       "      <td>2014-01-01</td>\n",
       "      <td>2014-01-01 00:47:00</td>\n",
       "      <td>49</td>\n",
       "      <td>Spear at Folsom</td>\n",
       "      <td>1</td>\n",
       "    </tr>\n",
       "  </tbody>\n",
       "</table>\n",
       "</div>"
      ],
      "text/plain": [
       "     Month_up               Month  Station ID  \\\n",
       "0  2014-01-01 2014-01-01 00:21:00          65   \n",
       "1  2014-01-01 2014-01-01 00:35:00          68   \n",
       "2  2014-01-01 2014-01-01 00:37:00          46   \n",
       "3  2014-01-01 2014-01-01 00:42:00          56   \n",
       "4  2014-01-01 2014-01-01 00:47:00          49   \n",
       "\n",
       "                                    Station Name  Rides  \n",
       "0                                Townsend at 7th      2  \n",
       "1  Yerba Buena Center of the Arts (3rd @ Howard)      2  \n",
       "2                          Washington at Kearney      3  \n",
       "3                                Beale at Market      1  \n",
       "4                                Spear at Folsom      1  "
      ]
     },
     "execution_count": 123,
     "metadata": {},
     "output_type": "execute_result"
    }
   ],
   "source": [
    "#creating a new date column without timestamp\n",
    "dataendstationdf[\"Month\"] = pd.to_datetime(dataendstationdf[\"Month\"])\n",
    "dataendstationdf['Month_up'] = dataendstationdf['Month'].dt.date\n",
    "#renaming columns\n",
    "dataendstationdf = dataendstationdf[['Month_up','Month','Station ID','Station Name','Rides']]\n",
    "dataendstationdf.head()"
   ]
  },
  {
   "cell_type": "code",
   "execution_count": 124,
   "metadata": {},
   "outputs": [
    {
     "data": {
      "text/html": [
       "<div>\n",
       "<style>\n",
       "    .dataframe thead tr:only-child th {\n",
       "        text-align: right;\n",
       "    }\n",
       "\n",
       "    .dataframe thead th {\n",
       "        text-align: left;\n",
       "    }\n",
       "\n",
       "    .dataframe tbody tr th {\n",
       "        vertical-align: top;\n",
       "    }\n",
       "</style>\n",
       "<table border=\"1\" class=\"dataframe\">\n",
       "  <thead>\n",
       "    <tr style=\"text-align: right;\">\n",
       "      <th></th>\n",
       "      <th></th>\n",
       "      <th></th>\n",
       "      <th>Rides</th>\n",
       "    </tr>\n",
       "    <tr>\n",
       "      <th>Month_up</th>\n",
       "      <th>Station ID</th>\n",
       "      <th>Station Name</th>\n",
       "      <th></th>\n",
       "    </tr>\n",
       "  </thead>\n",
       "  <tbody>\n",
       "    <tr>\n",
       "      <th rowspan=\"5\" valign=\"top\">2013-08-29</th>\n",
       "      <th>2</th>\n",
       "      <th>San Jose Diridon Caltrain Station</th>\n",
       "      <td>6</td>\n",
       "    </tr>\n",
       "    <tr>\n",
       "      <th>3</th>\n",
       "      <th>San Jose Civic Center</th>\n",
       "      <td>5</td>\n",
       "    </tr>\n",
       "    <tr>\n",
       "      <th>4</th>\n",
       "      <th>Santa Clara at Almaden</th>\n",
       "      <td>3</td>\n",
       "    </tr>\n",
       "    <tr>\n",
       "      <th>5</th>\n",
       "      <th>Adobe on Almaden</th>\n",
       "      <td>2</td>\n",
       "    </tr>\n",
       "    <tr>\n",
       "      <th>6</th>\n",
       "      <th>San Pedro Square</th>\n",
       "      <td>6</td>\n",
       "    </tr>\n",
       "  </tbody>\n",
       "</table>\n",
       "</div>"
      ],
      "text/plain": [
       "                                                         Rides\n",
       "Month_up   Station ID Station Name                            \n",
       "2013-08-29 2          San Jose Diridon Caltrain Station      6\n",
       "           3          San Jose Civic Center                  5\n",
       "           4          Santa Clara at Almaden                 3\n",
       "           5          Adobe on Almaden                       2\n",
       "           6          San Pedro Square                       6"
      ]
     },
     "execution_count": 124,
     "metadata": {},
     "output_type": "execute_result"
    }
   ],
   "source": [
    "#grouping columns to month, station ID, and station name\n",
    "dataendstationdfGB = dataendstationdf.groupby(['Month_up','Station ID','Station Name'])\n",
    "datagroupmonthenddf = dataendstationdfGB.sum()\n",
    "datagroupmonthenddf.head()"
   ]
  },
  {
   "cell_type": "code",
   "execution_count": 125,
   "metadata": {
    "collapsed": true
   },
   "outputs": [],
   "source": [
    "#exporting\n",
    "datagroupmonthenddf.to_csv('output/month_rides_by_end_station.csv')"
   ]
  },
  {
   "cell_type": "code",
   "execution_count": null,
   "metadata": {
    "collapsed": true
   },
   "outputs": [],
   "source": []
  }
 ],
 "metadata": {
  "kernelspec": {
   "display_name": "Python 3",
   "language": "python",
   "name": "python3"
  },
  "language_info": {
   "codemirror_mode": {
    "name": "ipython",
    "version": 3
   },
   "file_extension": ".py",
   "mimetype": "text/x-python",
   "name": "python",
   "nbconvert_exporter": "python",
   "pygments_lexer": "ipython3",
   "version": "3.6.2"
  }
 },
 "nbformat": 4,
 "nbformat_minor": 2
}
